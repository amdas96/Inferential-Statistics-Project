{
 "cells": [
  {
   "cell_type": "markdown",
   "id": "8bd7cd7e",
   "metadata": {},
   "source": [
    "## Import all the necessary libraries"
   ]
  },
  {
   "cell_type": "code",
   "execution_count": 1,
   "id": "25e9843a",
   "metadata": {},
   "outputs": [],
   "source": [
    "import numpy as np   \n",
    "import pandas as pd    \n",
    "import matplotlib.pyplot as plt   \n",
    "import seaborn as sns"
   ]
  },
  {
   "cell_type": "markdown",
   "id": "586ea845",
   "metadata": {},
   "source": [
    "## Business Context\n",
    "\n",
    "#### Relationship between foot injuries and positions:\n",
    "\n",
    "A physiotherapist with a male football team is interested in studying the relationship between foot injuries and the positions at which the players play from the data collected."
   ]
  },
  {
   "cell_type": "markdown",
   "id": "084a7d1e",
   "metadata": {},
   "source": [
    "## Objective\n",
    "\n",
    "The primary objective is to analyze the relationship between foot injuries and player positions within the male football team to improve player performance, reduce injury-related costs, and enhance overall team success.\n",
    "\n",
    "\n",
    "1 What is the probability that a randomly chosen player would suffer an injury?\n",
    "\n",
    "2 What is the probability that a player is a forward or a winger?\n",
    "\n",
    "3 What is the probability that a randomly chosen player plays in a striker position and has a foot injury?\n",
    "\n",
    "4 What is the probability that a randomly chosen injured player is a striker?"
   ]
  },
  {
   "cell_type": "markdown",
   "id": "ede38290",
   "metadata": {},
   "source": [
    "## Creating Dataframe:"
   ]
  },
  {
   "cell_type": "code",
   "execution_count": 2,
   "id": "b0990303",
   "metadata": {},
   "outputs": [
    {
     "data": {
      "image/png": "[encoded data removed]",
      "text/plain": [
       "<IPython.core.display.Image object>"
      ]
     },
     "execution_count": 2,
     "metadata": {
      "image/png": {
       "height": 500,
       "width": 500
      }
     },
     "output_type": "execute_result"
    }
   ],
   "source": [
    "\n",
    "from IPython.display import Image\n",
    "Image(filename='C:/Users/AKHIL MOHANDAS/Pictures/Screenshots/Pro1Imag1.png',width=500,height=500)"
   ]
  },
  {
   "cell_type": "markdown",
   "id": "3eb03fa9",
   "metadata": {},
   "source": [
    "Inputing values from the Image to a dataframe:\n",
    "\n"
   ]
  },
  {
   "cell_type": "code",
   "execution_count": 3,
   "id": "5b848122",
   "metadata": {},
   "outputs": [],
   "source": [
    "data = {\n",
    "    'Position': ['Striker', 'Forward', 'Attacking Midfielder', 'Winger', 'Total'],\n",
    "    'Players Injured': [45, 56, 24, 20, 145],\n",
    "    'Players Not Injured': [32, 38, 11, 9, 90],\n",
    "    'Total': [77, 94, 35, 29, 235]\n",
    "}"
   ]
  },
  {
   "cell_type": "code",
   "execution_count": 4,
   "id": "5c7a4ad8",
   "metadata": {},
   "outputs": [],
   "source": [
    "df=pd.DataFrame(data)"
   ]
  },
  {
   "cell_type": "code",
   "execution_count": 5,
   "id": "46a629d0",
   "metadata": {},
   "outputs": [
    {
     "data": {
      "text/html": [
       "<div>\n",
       "<style scoped>\n",
       "    .dataframe tbody tr th:only-of-type {\n",
       "        vertical-align: middle;\n",
       "    }\n",
       "\n",
       "    .dataframe tbody tr th {\n",
       "        vertical-align: top;\n",
       "    }\n",
       "\n",
       "    .dataframe thead th {\n",
       "        text-align: right;\n",
       "    }\n",
       "</style>\n",
       "<table border=\"1\" class=\"dataframe\">\n",
       "  <thead>\n",
       "    <tr style=\"text-align: right;\">\n",
       "      <th></th>\n",
       "      <th>Position</th>\n",
       "      <th>Players Injured</th>\n",
       "      <th>Players Not Injured</th>\n",
       "      <th>Total</th>\n",
       "    </tr>\n",
       "  </thead>\n",
       "  <tbody>\n",
       "    <tr>\n",
       "      <th>0</th>\n",
       "      <td>Striker</td>\n",
       "      <td>45</td>\n",
       "      <td>32</td>\n",
       "      <td>77</td>\n",
       "    </tr>\n",
       "    <tr>\n",
       "      <th>1</th>\n",
       "      <td>Forward</td>\n",
       "      <td>56</td>\n",
       "      <td>38</td>\n",
       "      <td>94</td>\n",
       "    </tr>\n",
       "    <tr>\n",
       "      <th>2</th>\n",
       "      <td>Attacking Midfielder</td>\n",
       "      <td>24</td>\n",
       "      <td>11</td>\n",
       "      <td>35</td>\n",
       "    </tr>\n",
       "    <tr>\n",
       "      <th>3</th>\n",
       "      <td>Winger</td>\n",
       "      <td>20</td>\n",
       "      <td>9</td>\n",
       "      <td>29</td>\n",
       "    </tr>\n",
       "    <tr>\n",
       "      <th>4</th>\n",
       "      <td>Total</td>\n",
       "      <td>145</td>\n",
       "      <td>90</td>\n",
       "      <td>235</td>\n",
       "    </tr>\n",
       "  </tbody>\n",
       "</table>\n",
       "</div>"
      ],
      "text/plain": [
       "               Position  Players Injured  Players Not Injured  Total\n",
       "0               Striker               45                   32     77\n",
       "1               Forward               56                   38     94\n",
       "2  Attacking Midfielder               24                   11     35\n",
       "3                Winger               20                    9     29\n",
       "4                 Total              145                   90    235"
      ]
     },
     "execution_count": 5,
     "metadata": {},
     "output_type": "execute_result"
    }
   ],
   "source": [
    "df"
   ]
  },
  {
   "cell_type": "code",
   "execution_count": 6,
   "id": "77c1239e",
   "metadata": {},
   "outputs": [],
   "source": [
    "df=df.set_index('Position').T"
   ]
  },
  {
   "cell_type": "code",
   "execution_count": 7,
   "id": "088d881a",
   "metadata": {},
   "outputs": [
    {
     "data": {
      "text/html": [
       "<div>\n",
       "<style scoped>\n",
       "    .dataframe tbody tr th:only-of-type {\n",
       "        vertical-align: middle;\n",
       "    }\n",
       "\n",
       "    .dataframe tbody tr th {\n",
       "        vertical-align: top;\n",
       "    }\n",
       "\n",
       "    .dataframe thead th {\n",
       "        text-align: right;\n",
       "    }\n",
       "</style>\n",
       "<table border=\"1\" class=\"dataframe\">\n",
       "  <thead>\n",
       "    <tr style=\"text-align: right;\">\n",
       "      <th>Position</th>\n",
       "      <th>Striker</th>\n",
       "      <th>Forward</th>\n",
       "      <th>Attacking Midfielder</th>\n",
       "      <th>Winger</th>\n",
       "      <th>Total</th>\n",
       "    </tr>\n",
       "  </thead>\n",
       "  <tbody>\n",
       "    <tr>\n",
       "      <th>Players Injured</th>\n",
       "      <td>45</td>\n",
       "      <td>56</td>\n",
       "      <td>24</td>\n",
       "      <td>20</td>\n",
       "      <td>145</td>\n",
       "    </tr>\n",
       "    <tr>\n",
       "      <th>Players Not Injured</th>\n",
       "      <td>32</td>\n",
       "      <td>38</td>\n",
       "      <td>11</td>\n",
       "      <td>9</td>\n",
       "      <td>90</td>\n",
       "    </tr>\n",
       "    <tr>\n",
       "      <th>Total</th>\n",
       "      <td>77</td>\n",
       "      <td>94</td>\n",
       "      <td>35</td>\n",
       "      <td>29</td>\n",
       "      <td>235</td>\n",
       "    </tr>\n",
       "  </tbody>\n",
       "</table>\n",
       "</div>"
      ],
      "text/plain": [
       "Position             Striker  Forward  Attacking Midfielder  Winger  Total\n",
       "Players Injured           45       56                    24      20    145\n",
       "Players Not Injured       32       38                    11       9     90\n",
       "Total                     77       94                    35      29    235"
      ]
     },
     "execution_count": 7,
     "metadata": {},
     "output_type": "execute_result"
    }
   ],
   "source": [
    "df"
   ]
  },
  {
   "cell_type": "markdown",
   "id": "e14a5198",
   "metadata": {},
   "source": [
    "Shape"
   ]
  },
  {
   "cell_type": "code",
   "execution_count": 8,
   "id": "6d8feef4",
   "metadata": {},
   "outputs": [
    {
     "name": "stdout",
     "output_type": "stream",
     "text": [
      "no. of rows:  3 \n",
      "no. of columns:  5\n"
     ]
    }
   ],
   "source": [
    "print(\"no. of rows: \",df.shape[0], \"\\n\"\"no. of columns: \",df.shape[1])"
   ]
  },
  {
   "cell_type": "markdown",
   "id": "0de2989c",
   "metadata": {},
   "source": [
    " "
   ]
  },
  {
   "cell_type": "markdown",
   "id": "ba6211c0",
   "metadata": {},
   "source": [
    "Retreive the list of fields along with their data type"
   ]
  },
  {
   "cell_type": "code",
   "execution_count": 9,
   "id": "b06a3603",
   "metadata": {},
   "outputs": [
    {
     "name": "stdout",
     "output_type": "stream",
     "text": [
      "<class 'pandas.core.frame.DataFrame'>\n",
      "Index: 3 entries, Players Injured to Total\n",
      "Data columns (total 5 columns):\n",
      " #   Column                Non-Null Count  Dtype\n",
      "---  ------                --------------  -----\n",
      " 0   Striker               3 non-null      int64\n",
      " 1   Forward               3 non-null      int64\n",
      " 2   Attacking Midfielder  3 non-null      int64\n",
      " 3   Winger                3 non-null      int64\n",
      " 4   Total                 3 non-null      int64\n",
      "dtypes: int64(5)\n",
      "memory usage: 144.0+ bytes\n"
     ]
    }
   ],
   "source": [
    "df.info()"
   ]
  },
  {
   "cell_type": "code",
   "execution_count": 10,
   "id": "cef2dd64",
   "metadata": {},
   "outputs": [
    {
     "data": {
      "text/html": [
       "<div>\n",
       "<style scoped>\n",
       "    .dataframe tbody tr th:only-of-type {\n",
       "        vertical-align: middle;\n",
       "    }\n",
       "\n",
       "    .dataframe tbody tr th {\n",
       "        vertical-align: top;\n",
       "    }\n",
       "\n",
       "    .dataframe thead th {\n",
       "        text-align: right;\n",
       "    }\n",
       "</style>\n",
       "<table border=\"1\" class=\"dataframe\">\n",
       "  <thead>\n",
       "    <tr style=\"text-align: right;\">\n",
       "      <th>Position</th>\n",
       "      <th>Striker</th>\n",
       "      <th>Forward</th>\n",
       "      <th>Attacking Midfielder</th>\n",
       "      <th>Winger</th>\n",
       "      <th>Total</th>\n",
       "    </tr>\n",
       "  </thead>\n",
       "  <tbody>\n",
       "    <tr>\n",
       "      <th>count</th>\n",
       "      <td>3.000000</td>\n",
       "      <td>3.000000</td>\n",
       "      <td>3.000000</td>\n",
       "      <td>3.000000</td>\n",
       "      <td>3.000000</td>\n",
       "    </tr>\n",
       "    <tr>\n",
       "      <th>mean</th>\n",
       "      <td>51.333333</td>\n",
       "      <td>62.666667</td>\n",
       "      <td>23.333333</td>\n",
       "      <td>19.333333</td>\n",
       "      <td>156.666667</td>\n",
       "    </tr>\n",
       "    <tr>\n",
       "      <th>std</th>\n",
       "      <td>23.158872</td>\n",
       "      <td>28.589042</td>\n",
       "      <td>12.013881</td>\n",
       "      <td>10.016653</td>\n",
       "      <td>73.200638</td>\n",
       "    </tr>\n",
       "    <tr>\n",
       "      <th>min</th>\n",
       "      <td>32.000000</td>\n",
       "      <td>38.000000</td>\n",
       "      <td>11.000000</td>\n",
       "      <td>9.000000</td>\n",
       "      <td>90.000000</td>\n",
       "    </tr>\n",
       "    <tr>\n",
       "      <th>25%</th>\n",
       "      <td>38.500000</td>\n",
       "      <td>47.000000</td>\n",
       "      <td>17.500000</td>\n",
       "      <td>14.500000</td>\n",
       "      <td>117.500000</td>\n",
       "    </tr>\n",
       "    <tr>\n",
       "      <th>50%</th>\n",
       "      <td>45.000000</td>\n",
       "      <td>56.000000</td>\n",
       "      <td>24.000000</td>\n",
       "      <td>20.000000</td>\n",
       "      <td>145.000000</td>\n",
       "    </tr>\n",
       "    <tr>\n",
       "      <th>75%</th>\n",
       "      <td>61.000000</td>\n",
       "      <td>75.000000</td>\n",
       "      <td>29.500000</td>\n",
       "      <td>24.500000</td>\n",
       "      <td>190.000000</td>\n",
       "    </tr>\n",
       "    <tr>\n",
       "      <th>max</th>\n",
       "      <td>77.000000</td>\n",
       "      <td>94.000000</td>\n",
       "      <td>35.000000</td>\n",
       "      <td>29.000000</td>\n",
       "      <td>235.000000</td>\n",
       "    </tr>\n",
       "  </tbody>\n",
       "</table>\n",
       "</div>"
      ],
      "text/plain": [
       "Position    Striker    Forward  Attacking Midfielder     Winger       Total\n",
       "count      3.000000   3.000000              3.000000   3.000000    3.000000\n",
       "mean      51.333333  62.666667             23.333333  19.333333  156.666667\n",
       "std       23.158872  28.589042             12.013881  10.016653   73.200638\n",
       "min       32.000000  38.000000             11.000000   9.000000   90.000000\n",
       "25%       38.500000  47.000000             17.500000  14.500000  117.500000\n",
       "50%       45.000000  56.000000             24.000000  20.000000  145.000000\n",
       "75%       61.000000  75.000000             29.500000  24.500000  190.000000\n",
       "max       77.000000  94.000000             35.000000  29.000000  235.000000"
      ]
     },
     "execution_count": 10,
     "metadata": {},
     "output_type": "execute_result"
    }
   ],
   "source": [
    "df.describe()"
   ]
  },
  {
   "cell_type": "markdown",
   "id": "6540b0bc",
   "metadata": {},
   "source": [
    "##### Observation:\n",
    "\n",
    "Dataframe called \"df\" which contains the number of injured and non injured players are created succesfully. \n",
    "\n",
    "There are 3 rows(Injured, non injured and their total count) and 5 features(different playing positions Striker, Forward, Attacking Midfielder and winger along with the total count).\n",
    "\n",
    "There are no missing values.\n",
    "\n",
    "All the data values are in correct format.\n",
    "\n",
    "All the Totals are also adding up, so no need to clean the data."
   ]
  },
  {
   "cell_type": "markdown",
   "id": "184e75fc",
   "metadata": {},
   "source": [
    "## 1.What is the probability that a randomly chosen player would suffer an injury?"
   ]
  },
  {
   "cell_type": "code",
   "execution_count": 11,
   "id": "669253e2",
   "metadata": {},
   "outputs": [],
   "source": [
    "total_injured_players = 145\n",
    "total_players = 235\n",
    "\n",
    "probability_of_injury = total_injured_players / total_players"
   ]
  },
  {
   "cell_type": "code",
   "execution_count": 12,
   "id": "b8907a87",
   "metadata": {},
   "outputs": [
    {
     "name": "stdout",
     "output_type": "stream",
     "text": [
      "probability that a randomly chosen player would suffer an injury is : 0.617\n"
     ]
    }
   ],
   "source": [
    "print('probability that a randomly chosen player would suffer an injury is :',round(probability_of_injury,3))"
   ]
  },
  {
   "cell_type": "markdown",
   "id": "85e99494",
   "metadata": {},
   "source": [
    "There is a 61.7%(approx 62%) that a randomly chosen player would suffer an injury."
   ]
  },
  {
   "cell_type": "markdown",
   "id": "60a3b988",
   "metadata": {},
   "source": [
    "## 2.What is the probability that a player is a forward or a winger?"
   ]
  },
  {
   "cell_type": "code",
   "execution_count": 13,
   "id": "14885e29",
   "metadata": {},
   "outputs": [],
   "source": [
    "total_forward_player =94\n",
    "total_wingers =29\n",
    "total_players=235\n",
    "\n",
    "Probability_forw_wing=(total_forward_player+total_wingers)/total_players"
   ]
  },
  {
   "cell_type": "code",
   "execution_count": 14,
   "id": "4923459b",
   "metadata": {},
   "outputs": [
    {
     "name": "stdout",
     "output_type": "stream",
     "text": [
      "probability that a player is a forward or a winger : 0.523\n"
     ]
    }
   ],
   "source": [
    "print('probability that a player is a forward or a winger :',round(Probability_forw_wing,3))"
   ]
  },
  {
   "cell_type": "markdown",
   "id": "a0c87851",
   "metadata": {},
   "source": [
    "There is a 52.3%(approx 52%) that a player would be either a forward or a winger."
   ]
  },
  {
   "cell_type": "markdown",
   "id": "5d1f0dd0",
   "metadata": {},
   "source": [
    "## 3.What is the probability that a randomly chosen player plays in a striker position and has a foot injury?"
   ]
  },
  {
   "cell_type": "code",
   "execution_count": 15,
   "id": "d57530c3",
   "metadata": {},
   "outputs": [],
   "source": [
    "striker_injured=45\n",
    "total_players=235\n",
    "\n",
    "probability_stri_injured=striker_injured/total_players"
   ]
  },
  {
   "cell_type": "code",
   "execution_count": 16,
   "id": "2eff5e6f",
   "metadata": {},
   "outputs": [
    {
     "name": "stdout",
     "output_type": "stream",
     "text": [
      "probability that a randomly chosen player plays in a striker position and has a foot injury : 0.191\n"
     ]
    }
   ],
   "source": [
    "print('probability that a randomly chosen player plays in a striker position and has a foot injury :',round(probability_stri_injured,3))"
   ]
  },
  {
   "cell_type": "markdown",
   "id": "d9a962dc",
   "metadata": {},
   "source": [
    "There is a 19.1%(approx 19%) that a randomly chosen player plays in a striker position and has a foot injury."
   ]
  },
  {
   "cell_type": "markdown",
   "id": "0f49bd02",
   "metadata": {},
   "source": [
    "## 4.What is the probability that a randomly chosen injured player is a striker?"
   ]
  },
  {
   "cell_type": "code",
   "execution_count": 17,
   "id": "c3b286eb",
   "metadata": {},
   "outputs": [],
   "source": [
    "striker_injured=45\n",
    "total_injured_players=145\n",
    "\n",
    "Probability_injured_striker=striker_injured/total_injured_players"
   ]
  },
  {
   "cell_type": "code",
   "execution_count": 18,
   "id": "22ceb032",
   "metadata": {},
   "outputs": [
    {
     "name": "stdout",
     "output_type": "stream",
     "text": [
      "probability that a randomly chosen injured player is a striker : 0.31\n"
     ]
    }
   ],
   "source": [
    "print('probability that a randomly chosen injured player is a striker :',round(Probability_injured_striker,3))"
   ]
  },
  {
   "cell_type": "markdown",
   "id": "9d41b384",
   "metadata": {},
   "source": [
    "There is a 31% that a randomly chosen injured player is a striker."
   ]
  },
  {
   "cell_type": "code",
   "execution_count": null,
   "id": "c4d30376",
   "metadata": {},
   "outputs": [],
   "source": []
  }
 ],
 "metadata": {
  "kernelspec": {
   "display_name": "Python 3 (ipykernel)",
   "language": "python",
   "name": "python3"
  },
  "language_info": {
   "codemirror_mode": {
    "name": "ipython",
    "version": 3
   },
   "file_extension": ".py",
   "mimetype": "text/x-python",
   "name": "python",
   "nbconvert_exporter": "python",
   "pygments_lexer": "ipython3",
   "version": "3.11.5"
  }
 },
 "nbformat": 4,
 "nbformat_minor": 5
}
