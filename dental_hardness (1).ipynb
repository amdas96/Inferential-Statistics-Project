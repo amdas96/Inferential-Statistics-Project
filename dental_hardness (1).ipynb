{
 "cells": [
  {
   "cell_type": "markdown",
   "id": "bc052217",
   "metadata": {},
   "source": [
    "## Business Context\n",
    "\n",
    "In a dental clinic or laboratory setting, understanding the factors influencing the hardness of dental implants is crucial for ensuring patient satisfaction and successful implantation procedures.\n",
    "\n",
    "The hardness of metal implants in dental cavities depends on multiple factors, such as the method of implant, the temperature at which the metal is treated, the alloy used as well as the dentists who may favor one method above another and may work better in his/her favorite method. The response is the variable of interest.\n",
    "\n",
    "## Objective\n",
    "\n",
    "1. How does the hardness of implants vary depending on dentists?\n",
    "\n",
    "2. How does the hardness of implants vary depending on methods?\n",
    "\n",
    "3. What is the interaction effect between the dentist and method on the hardness of dental implants for each type of alloy?\n",
    "\n",
    "4. How does the hardness of implants vary depending on dentists and methods together?\n",
    "\n"
   ]
  },
  {
   "cell_type": "code",
   "execution_count": 1,
   "id": "537fa6a0",
   "metadata": {},
   "outputs": [],
   "source": [
    "# Libraries to help with reading and manipulating data\n",
    "import numpy as np\n",
    "import pandas as pd\n",
    "\n",
    "# Libraries to help with data visualization\n",
    "import matplotlib.pyplot as plt\n",
    "import seaborn as sns\n",
    "%matplotlib inline \n",
    "\n",
    "# Library to help with statistical analysis\n",
    "import scipy.stats as stats \n",
    "\n",
    "from statsmodels.formula.api import ols\n",
    "\n",
    "from statsmodels.stats.anova import _get_covariance,anova_lm"
   ]
  },
  {
   "cell_type": "markdown",
   "id": "d1cda9c6",
   "metadata": {},
   "source": [
    "### Loading the dataset"
   ]
  },
  {
   "cell_type": "code",
   "execution_count": 2,
   "id": "0669f670",
   "metadata": {},
   "outputs": [],
   "source": [
    "# load the dataset\n",
    "df = pd.read_excel('C:/Users/AKHIL MOHANDAS/Documents/Study_Material/Project 3/Dental+Hardness+data.xlsx',sheet_name='Data')"
   ]
  },
  {
   "cell_type": "markdown",
   "id": "2f995235",
   "metadata": {},
   "source": [
    "### Data Overview"
   ]
  },
  {
   "cell_type": "markdown",
   "id": "0418ae0f",
   "metadata": {},
   "source": [
    "#### top 5 data:"
   ]
  },
  {
   "cell_type": "code",
   "execution_count": 3,
   "id": "45decc66",
   "metadata": {},
   "outputs": [
    {
     "data": {
      "text/html": [
       "<div>\n",
       "<style scoped>\n",
       "    .dataframe tbody tr th:only-of-type {\n",
       "        vertical-align: middle;\n",
       "    }\n",
       "\n",
       "    .dataframe tbody tr th {\n",
       "        vertical-align: top;\n",
       "    }\n",
       "\n",
       "    .dataframe thead th {\n",
       "        text-align: right;\n",
       "    }\n",
       "</style>\n",
       "<table border=\"1\" class=\"dataframe\">\n",
       "  <thead>\n",
       "    <tr style=\"text-align: right;\">\n",
       "      <th></th>\n",
       "      <th>Dentist</th>\n",
       "      <th>Method</th>\n",
       "      <th>Alloy</th>\n",
       "      <th>Temp</th>\n",
       "      <th>Response</th>\n",
       "    </tr>\n",
       "  </thead>\n",
       "  <tbody>\n",
       "    <tr>\n",
       "      <th>0</th>\n",
       "      <td>1</td>\n",
       "      <td>1</td>\n",
       "      <td>1</td>\n",
       "      <td>1500</td>\n",
       "      <td>813</td>\n",
       "    </tr>\n",
       "    <tr>\n",
       "      <th>1</th>\n",
       "      <td>1</td>\n",
       "      <td>1</td>\n",
       "      <td>1</td>\n",
       "      <td>1600</td>\n",
       "      <td>792</td>\n",
       "    </tr>\n",
       "    <tr>\n",
       "      <th>2</th>\n",
       "      <td>1</td>\n",
       "      <td>1</td>\n",
       "      <td>1</td>\n",
       "      <td>1700</td>\n",
       "      <td>792</td>\n",
       "    </tr>\n",
       "    <tr>\n",
       "      <th>3</th>\n",
       "      <td>1</td>\n",
       "      <td>1</td>\n",
       "      <td>2</td>\n",
       "      <td>1500</td>\n",
       "      <td>907</td>\n",
       "    </tr>\n",
       "    <tr>\n",
       "      <th>4</th>\n",
       "      <td>1</td>\n",
       "      <td>1</td>\n",
       "      <td>2</td>\n",
       "      <td>1600</td>\n",
       "      <td>792</td>\n",
       "    </tr>\n",
       "  </tbody>\n",
       "</table>\n",
       "</div>"
      ],
      "text/plain": [
       "   Dentist  Method  Alloy  Temp  Response\n",
       "0        1       1      1  1500       813\n",
       "1        1       1      1  1600       792\n",
       "2        1       1      1  1700       792\n",
       "3        1       1      2  1500       907\n",
       "4        1       1      2  1600       792"
      ]
     },
     "execution_count": 3,
     "metadata": {},
     "output_type": "execute_result"
    }
   ],
   "source": [
    "df.head()"
   ]
  },
  {
   "cell_type": "markdown",
   "id": "39ee33fc",
   "metadata": {},
   "source": [
    "##### bottom 5 data:"
   ]
  },
  {
   "cell_type": "code",
   "execution_count": 4,
   "id": "0295b7df",
   "metadata": {},
   "outputs": [
    {
     "data": {
      "text/html": [
       "<div>\n",
       "<style scoped>\n",
       "    .dataframe tbody tr th:only-of-type {\n",
       "        vertical-align: middle;\n",
       "    }\n",
       "\n",
       "    .dataframe tbody tr th {\n",
       "        vertical-align: top;\n",
       "    }\n",
       "\n",
       "    .dataframe thead th {\n",
       "        text-align: right;\n",
       "    }\n",
       "</style>\n",
       "<table border=\"1\" class=\"dataframe\">\n",
       "  <thead>\n",
       "    <tr style=\"text-align: right;\">\n",
       "      <th></th>\n",
       "      <th>Dentist</th>\n",
       "      <th>Method</th>\n",
       "      <th>Alloy</th>\n",
       "      <th>Temp</th>\n",
       "      <th>Response</th>\n",
       "    </tr>\n",
       "  </thead>\n",
       "  <tbody>\n",
       "    <tr>\n",
       "      <th>85</th>\n",
       "      <td>5</td>\n",
       "      <td>3</td>\n",
       "      <td>1</td>\n",
       "      <td>1600</td>\n",
       "      <td>483</td>\n",
       "    </tr>\n",
       "    <tr>\n",
       "      <th>86</th>\n",
       "      <td>5</td>\n",
       "      <td>3</td>\n",
       "      <td>1</td>\n",
       "      <td>1700</td>\n",
       "      <td>405</td>\n",
       "    </tr>\n",
       "    <tr>\n",
       "      <th>87</th>\n",
       "      <td>5</td>\n",
       "      <td>3</td>\n",
       "      <td>2</td>\n",
       "      <td>1500</td>\n",
       "      <td>536</td>\n",
       "    </tr>\n",
       "    <tr>\n",
       "      <th>88</th>\n",
       "      <td>5</td>\n",
       "      <td>3</td>\n",
       "      <td>2</td>\n",
       "      <td>1600</td>\n",
       "      <td>405</td>\n",
       "    </tr>\n",
       "    <tr>\n",
       "      <th>89</th>\n",
       "      <td>5</td>\n",
       "      <td>3</td>\n",
       "      <td>2</td>\n",
       "      <td>1700</td>\n",
       "      <td>312</td>\n",
       "    </tr>\n",
       "  </tbody>\n",
       "</table>\n",
       "</div>"
      ],
      "text/plain": [
       "    Dentist  Method  Alloy  Temp  Response\n",
       "85        5       3      1  1600       483\n",
       "86        5       3      1  1700       405\n",
       "87        5       3      2  1500       536\n",
       "88        5       3      2  1600       405\n",
       "89        5       3      2  1700       312"
      ]
     },
     "execution_count": 4,
     "metadata": {},
     "output_type": "execute_result"
    }
   ],
   "source": [
    "df.tail()"
   ]
  },
  {
   "cell_type": "markdown",
   "id": "5216afd8",
   "metadata": {},
   "source": [
    "##### shape of the data"
   ]
  },
  {
   "cell_type": "code",
   "execution_count": 5,
   "id": "6d1a7fc9",
   "metadata": {},
   "outputs": [
    {
     "data": {
      "text/plain": [
       "(90, 5)"
      ]
     },
     "execution_count": 5,
     "metadata": {},
     "output_type": "execute_result"
    }
   ],
   "source": [
    "df.shape"
   ]
  },
  {
   "cell_type": "markdown",
   "id": "5504f642",
   "metadata": {},
   "source": [
    "107 rows and 14 columns"
   ]
  },
  {
   "cell_type": "markdown",
   "id": "bf4460ef",
   "metadata": {},
   "source": [
    "#### Checking for any missing data and data types"
   ]
  },
  {
   "cell_type": "code",
   "execution_count": 6,
   "id": "365c47ef",
   "metadata": {},
   "outputs": [
    {
     "data": {
      "text/plain": [
       "Dentist     0\n",
       "Method      0\n",
       "Alloy       0\n",
       "Temp        0\n",
       "Response    0\n",
       "dtype: int64"
      ]
     },
     "execution_count": 6,
     "metadata": {},
     "output_type": "execute_result"
    }
   ],
   "source": [
    "df.isnull().sum()"
   ]
  },
  {
   "cell_type": "markdown",
   "id": "8962c7fc",
   "metadata": {},
   "source": [
    "#### Checking the data types of the columns for the dataset"
   ]
  },
  {
   "cell_type": "code",
   "execution_count": 7,
   "id": "3c352183",
   "metadata": {},
   "outputs": [
    {
     "name": "stdout",
     "output_type": "stream",
     "text": [
      "<class 'pandas.core.frame.DataFrame'>\n",
      "RangeIndex: 90 entries, 0 to 89\n",
      "Data columns (total 5 columns):\n",
      " #   Column    Non-Null Count  Dtype\n",
      "---  ------    --------------  -----\n",
      " 0   Dentist   90 non-null     int64\n",
      " 1   Method    90 non-null     int64\n",
      " 2   Alloy     90 non-null     int64\n",
      " 3   Temp      90 non-null     int64\n",
      " 4   Response  90 non-null     int64\n",
      "dtypes: int64(5)\n",
      "memory usage: 3.6 KB\n"
     ]
    }
   ],
   "source": [
    "df.info()"
   ]
  },
  {
   "cell_type": "code",
   "execution_count": 8,
   "id": "e0d560c0",
   "metadata": {},
   "outputs": [],
   "source": [
    "df.Dentist = pd.Categorical(df.Dentist)"
   ]
  },
  {
   "cell_type": "code",
   "execution_count": 9,
   "id": "2acfeadb",
   "metadata": {},
   "outputs": [],
   "source": [
    "df.Method = pd.Categorical(df.Method)"
   ]
  },
  {
   "cell_type": "code",
   "execution_count": 10,
   "id": "0600fa90",
   "metadata": {},
   "outputs": [],
   "source": [
    "df.Alloy = pd.Categorical(df.Alloy)"
   ]
  },
  {
   "cell_type": "code",
   "execution_count": 11,
   "id": "225f5473",
   "metadata": {},
   "outputs": [],
   "source": [
    "df.Temp = pd.Categorical(df.Temp)"
   ]
  },
  {
   "cell_type": "code",
   "execution_count": 12,
   "id": "3e6beb3c",
   "metadata": {},
   "outputs": [
    {
     "name": "stdout",
     "output_type": "stream",
     "text": [
      "<class 'pandas.core.frame.DataFrame'>\n",
      "RangeIndex: 90 entries, 0 to 89\n",
      "Data columns (total 5 columns):\n",
      " #   Column    Non-Null Count  Dtype   \n",
      "---  ------    --------------  -----   \n",
      " 0   Dentist   90 non-null     category\n",
      " 1   Method    90 non-null     category\n",
      " 2   Alloy     90 non-null     category\n",
      " 3   Temp      90 non-null     category\n",
      " 4   Response  90 non-null     int64   \n",
      "dtypes: category(4), int64(1)\n",
      "memory usage: 1.8 KB\n"
     ]
    }
   ],
   "source": [
    "df.info()"
   ]
  },
  {
   "cell_type": "code",
   "execution_count": 13,
   "id": "bb567ba2",
   "metadata": {},
   "outputs": [
    {
     "data": {
      "text/plain": [
       "<bound method IndexOpsMixin.value_counts of 0     1\n",
       "1     1\n",
       "2     1\n",
       "3     1\n",
       "4     1\n",
       "     ..\n",
       "85    5\n",
       "86    5\n",
       "87    5\n",
       "88    5\n",
       "89    5\n",
       "Name: Dentist, Length: 90, dtype: category\n",
       "Categories (5, int64): [1, 2, 3, 4, 5]>"
      ]
     },
     "execution_count": 13,
     "metadata": {},
     "output_type": "execute_result"
    }
   ],
   "source": [
    "df.Dentist.value_counts"
   ]
  },
  {
   "cell_type": "code",
   "execution_count": 14,
   "id": "cabcac51",
   "metadata": {},
   "outputs": [
    {
     "data": {
      "text/plain": [
       "<bound method IndexOpsMixin.value_counts of 0     1\n",
       "1     1\n",
       "2     1\n",
       "3     1\n",
       "4     1\n",
       "     ..\n",
       "85    3\n",
       "86    3\n",
       "87    3\n",
       "88    3\n",
       "89    3\n",
       "Name: Method, Length: 90, dtype: category\n",
       "Categories (3, int64): [1, 2, 3]>"
      ]
     },
     "execution_count": 14,
     "metadata": {},
     "output_type": "execute_result"
    }
   ],
   "source": [
    "df.Method.value_counts"
   ]
  },
  {
   "cell_type": "code",
   "execution_count": 15,
   "id": "744cbda3",
   "metadata": {},
   "outputs": [
    {
     "data": {
      "text/plain": [
       "<bound method IndexOpsMixin.value_counts of 0     1\n",
       "1     1\n",
       "2     1\n",
       "3     2\n",
       "4     2\n",
       "     ..\n",
       "85    1\n",
       "86    1\n",
       "87    2\n",
       "88    2\n",
       "89    2\n",
       "Name: Alloy, Length: 90, dtype: category\n",
       "Categories (2, int64): [1, 2]>"
      ]
     },
     "execution_count": 15,
     "metadata": {},
     "output_type": "execute_result"
    }
   ],
   "source": [
    "df.Alloy.value_counts"
   ]
  },
  {
   "cell_type": "code",
   "execution_count": 16,
   "id": "8d88b309",
   "metadata": {
    "scrolled": true
   },
   "outputs": [
    {
     "data": {
      "text/plain": [
       "<bound method IndexOpsMixin.value_counts of 0     1500\n",
       "1     1600\n",
       "2     1700\n",
       "3     1500\n",
       "4     1600\n",
       "      ... \n",
       "85    1600\n",
       "86    1700\n",
       "87    1500\n",
       "88    1600\n",
       "89    1700\n",
       "Name: Temp, Length: 90, dtype: category\n",
       "Categories (3, int64): [1500, 1600, 1700]>"
      ]
     },
     "execution_count": 16,
     "metadata": {},
     "output_type": "execute_result"
    }
   ],
   "source": [
    "df.Temp.value_counts"
   ]
  },
  {
   "cell_type": "code",
   "execution_count": 17,
   "id": "092dd05b",
   "metadata": {},
   "outputs": [
    {
     "data": {
      "text/html": [
       "<div>\n",
       "<style scoped>\n",
       "    .dataframe tbody tr th:only-of-type {\n",
       "        vertical-align: middle;\n",
       "    }\n",
       "\n",
       "    .dataframe tbody tr th {\n",
       "        vertical-align: top;\n",
       "    }\n",
       "\n",
       "    .dataframe thead th {\n",
       "        text-align: right;\n",
       "    }\n",
       "</style>\n",
       "<table border=\"1\" class=\"dataframe\">\n",
       "  <thead>\n",
       "    <tr style=\"text-align: right;\">\n",
       "      <th></th>\n",
       "      <th>Dentist</th>\n",
       "      <th>Method</th>\n",
       "      <th>Alloy</th>\n",
       "      <th>Temp</th>\n",
       "    </tr>\n",
       "  </thead>\n",
       "  <tbody>\n",
       "    <tr>\n",
       "      <th>count</th>\n",
       "      <td>90</td>\n",
       "      <td>90</td>\n",
       "      <td>90</td>\n",
       "      <td>90</td>\n",
       "    </tr>\n",
       "    <tr>\n",
       "      <th>unique</th>\n",
       "      <td>5</td>\n",
       "      <td>3</td>\n",
       "      <td>2</td>\n",
       "      <td>3</td>\n",
       "    </tr>\n",
       "    <tr>\n",
       "      <th>top</th>\n",
       "      <td>1</td>\n",
       "      <td>1</td>\n",
       "      <td>1</td>\n",
       "      <td>1500</td>\n",
       "    </tr>\n",
       "    <tr>\n",
       "      <th>freq</th>\n",
       "      <td>18</td>\n",
       "      <td>30</td>\n",
       "      <td>45</td>\n",
       "      <td>30</td>\n",
       "    </tr>\n",
       "  </tbody>\n",
       "</table>\n",
       "</div>"
      ],
      "text/plain": [
       "        Dentist  Method  Alloy  Temp\n",
       "count        90      90     90    90\n",
       "unique        5       3      2     3\n",
       "top           1       1      1  1500\n",
       "freq         18      30     45    30"
      ]
     },
     "execution_count": 17,
     "metadata": {},
     "output_type": "execute_result"
    }
   ],
   "source": [
    "df.describe(include='category')"
   ]
  },
  {
   "cell_type": "code",
   "execution_count": 18,
   "id": "cca0e93d",
   "metadata": {},
   "outputs": [
    {
     "name": "stdout",
     "output_type": "stream",
     "text": [
      "<class 'pandas.core.frame.DataFrame'>\n",
      "RangeIndex: 90 entries, 0 to 89\n",
      "Data columns (total 5 columns):\n",
      " #   Column    Non-Null Count  Dtype   \n",
      "---  ------    --------------  -----   \n",
      " 0   Dentist   90 non-null     category\n",
      " 1   Method    90 non-null     category\n",
      " 2   Alloy     90 non-null     category\n",
      " 3   Temp      90 non-null     category\n",
      " 4   Response  90 non-null     int64   \n",
      "dtypes: category(4), int64(1)\n",
      "memory usage: 1.8 KB\n"
     ]
    }
   ],
   "source": [
    "df.info()"
   ]
  },
  {
   "cell_type": "markdown",
   "id": "4ffec814",
   "metadata": {},
   "source": [
    "##### there are no missing values."
   ]
  },
  {
   "cell_type": "markdown",
   "id": "594d9e71",
   "metadata": {},
   "source": [
    "#### To analyze how the hardness of dental implants varies based on the factors mentioned (dentists, methods, and alloys), you can use a statistical approach of ANOVA (Analysis of Variance)."
   ]
  },
  {
   "cell_type": "markdown",
   "id": "6eca879d",
   "metadata": {},
   "source": [
    "###### As both types of alloys cannot be considered together. We must conduct the analysis separately for the two types of alloys:"
   ]
  },
  {
   "cell_type": "code",
   "execution_count": 19,
   "id": "4bf7a6d2",
   "metadata": {},
   "outputs": [],
   "source": [
    "df_alloy1 = df[df['Alloy'] == 1]\n",
    "df_alloy2 = df[df['Alloy'] == 2]"
   ]
  },
  {
   "cell_type": "code",
   "execution_count": 20,
   "id": "e5e29ea5",
   "metadata": {},
   "outputs": [
    {
     "data": {
      "text/html": [
       "<div>\n",
       "<style scoped>\n",
       "    .dataframe tbody tr th:only-of-type {\n",
       "        vertical-align: middle;\n",
       "    }\n",
       "\n",
       "    .dataframe tbody tr th {\n",
       "        vertical-align: top;\n",
       "    }\n",
       "\n",
       "    .dataframe thead th {\n",
       "        text-align: right;\n",
       "    }\n",
       "</style>\n",
       "<table border=\"1\" class=\"dataframe\">\n",
       "  <thead>\n",
       "    <tr style=\"text-align: right;\">\n",
       "      <th></th>\n",
       "      <th>Dentist</th>\n",
       "      <th>Method</th>\n",
       "      <th>Alloy</th>\n",
       "      <th>Temp</th>\n",
       "      <th>Response</th>\n",
       "    </tr>\n",
       "  </thead>\n",
       "  <tbody>\n",
       "    <tr>\n",
       "      <th>0</th>\n",
       "      <td>1</td>\n",
       "      <td>1</td>\n",
       "      <td>1</td>\n",
       "      <td>1500</td>\n",
       "      <td>813</td>\n",
       "    </tr>\n",
       "    <tr>\n",
       "      <th>1</th>\n",
       "      <td>1</td>\n",
       "      <td>1</td>\n",
       "      <td>1</td>\n",
       "      <td>1600</td>\n",
       "      <td>792</td>\n",
       "    </tr>\n",
       "    <tr>\n",
       "      <th>2</th>\n",
       "      <td>1</td>\n",
       "      <td>1</td>\n",
       "      <td>1</td>\n",
       "      <td>1700</td>\n",
       "      <td>792</td>\n",
       "    </tr>\n",
       "    <tr>\n",
       "      <th>6</th>\n",
       "      <td>1</td>\n",
       "      <td>2</td>\n",
       "      <td>1</td>\n",
       "      <td>1500</td>\n",
       "      <td>782</td>\n",
       "    </tr>\n",
       "    <tr>\n",
       "      <th>7</th>\n",
       "      <td>1</td>\n",
       "      <td>2</td>\n",
       "      <td>1</td>\n",
       "      <td>1600</td>\n",
       "      <td>698</td>\n",
       "    </tr>\n",
       "  </tbody>\n",
       "</table>\n",
       "</div>"
      ],
      "text/plain": [
       "  Dentist Method Alloy  Temp  Response\n",
       "0       1      1     1  1500       813\n",
       "1       1      1     1  1600       792\n",
       "2       1      1     1  1700       792\n",
       "6       1      2     1  1500       782\n",
       "7       1      2     1  1600       698"
      ]
     },
     "execution_count": 20,
     "metadata": {},
     "output_type": "execute_result"
    }
   ],
   "source": [
    "df_alloy1.head()"
   ]
  },
  {
   "cell_type": "code",
   "execution_count": 21,
   "id": "699fbe59",
   "metadata": {},
   "outputs": [
    {
     "data": {
      "text/html": [
       "<div>\n",
       "<style scoped>\n",
       "    .dataframe tbody tr th:only-of-type {\n",
       "        vertical-align: middle;\n",
       "    }\n",
       "\n",
       "    .dataframe tbody tr th {\n",
       "        vertical-align: top;\n",
       "    }\n",
       "\n",
       "    .dataframe thead th {\n",
       "        text-align: right;\n",
       "    }\n",
       "</style>\n",
       "<table border=\"1\" class=\"dataframe\">\n",
       "  <thead>\n",
       "    <tr style=\"text-align: right;\">\n",
       "      <th></th>\n",
       "      <th>Dentist</th>\n",
       "      <th>Method</th>\n",
       "      <th>Alloy</th>\n",
       "      <th>Temp</th>\n",
       "      <th>Response</th>\n",
       "    </tr>\n",
       "  </thead>\n",
       "  <tbody>\n",
       "    <tr>\n",
       "      <th>3</th>\n",
       "      <td>1</td>\n",
       "      <td>1</td>\n",
       "      <td>2</td>\n",
       "      <td>1500</td>\n",
       "      <td>907</td>\n",
       "    </tr>\n",
       "    <tr>\n",
       "      <th>4</th>\n",
       "      <td>1</td>\n",
       "      <td>1</td>\n",
       "      <td>2</td>\n",
       "      <td>1600</td>\n",
       "      <td>792</td>\n",
       "    </tr>\n",
       "    <tr>\n",
       "      <th>5</th>\n",
       "      <td>1</td>\n",
       "      <td>1</td>\n",
       "      <td>2</td>\n",
       "      <td>1700</td>\n",
       "      <td>835</td>\n",
       "    </tr>\n",
       "    <tr>\n",
       "      <th>9</th>\n",
       "      <td>1</td>\n",
       "      <td>2</td>\n",
       "      <td>2</td>\n",
       "      <td>1500</td>\n",
       "      <td>1115</td>\n",
       "    </tr>\n",
       "    <tr>\n",
       "      <th>10</th>\n",
       "      <td>1</td>\n",
       "      <td>2</td>\n",
       "      <td>2</td>\n",
       "      <td>1600</td>\n",
       "      <td>835</td>\n",
       "    </tr>\n",
       "  </tbody>\n",
       "</table>\n",
       "</div>"
      ],
      "text/plain": [
       "   Dentist Method Alloy  Temp  Response\n",
       "3        1      1     2  1500       907\n",
       "4        1      1     2  1600       792\n",
       "5        1      1     2  1700       835\n",
       "9        1      2     2  1500      1115\n",
       "10       1      2     2  1600       835"
      ]
     },
     "execution_count": 21,
     "metadata": {},
     "output_type": "execute_result"
    }
   ],
   "source": [
    "df_alloy2.head()"
   ]
  },
  {
   "cell_type": "markdown",
   "id": "54e00044",
   "metadata": {},
   "source": [
    "##### 1.How does the hardness of implants vary depending on dentists?"
   ]
  },
  {
   "cell_type": "markdown",
   "id": "571a5089",
   "metadata": {},
   "source": [
    "Null and Alternate Hypotheses\n",
    "\n",
    "For each alloy type, the hypotheses are:\n",
    "\n",
    "###### Null Hypothesis (H0): The hardness of implants does not vary depending on dentists (mean hardness is the same for all dentists).\n",
    "###### Alternate Hypothesis (H1): The hardness of implants varies depending on dentists (mean hardness is not the same for all dentists)"
   ]
  },
  {
   "cell_type": "code",
   "execution_count": 22,
   "id": "47803300",
   "metadata": {},
   "outputs": [
    {
     "name": "stdout",
     "output_type": "stream",
     "text": [
      "Dentist\n",
      "1    749.888889\n",
      "2    761.222222\n",
      "3    717.555556\n",
      "4    681.111111\n",
      "5    627.666667\n",
      "Name: Response, dtype: float64\n"
     ]
    },
    {
     "data": {
      "image/png": "[encoded data removed]",
      "text/plain": [
       "<Figure size 600x600 with 1 Axes>"
      ]
     },
     "metadata": {},
     "output_type": "display_data"
    }
   ],
   "source": [
    "print(df_alloy1.groupby(\"Dentist\")[\"Response\"].mean())\n",
    "\n",
    "# draw the boxplot for visualization \n",
    "fig, ax = plt.subplots(figsize = (6,6))\n",
    "a = sns.boxplot(x= \"Dentist\", y = 'Response' , data = df_alloy1)\n",
    "a.set_title(\"Implant Hardness by Dentist (Alloy 1)\", fontsize=15)\n",
    "plt.show()"
   ]
  },
  {
   "cell_type": "code",
   "execution_count": 23,
   "id": "5eab0b88",
   "metadata": {},
   "outputs": [
    {
     "name": "stdout",
     "output_type": "stream",
     "text": [
      "Dentist\n",
      "1    816.222222\n",
      "2    812.111111\n",
      "3    779.666667\n",
      "4    746.222222\n",
      "5    726.111111\n",
      "Name: Response, dtype: float64\n"
     ]
    },
    {
     "data": {
      "image/png": "[encoded data removed]",
      "text/plain": [
       "<Figure size 600x600 with 1 Axes>"
      ]
     },
     "metadata": {},
     "output_type": "display_data"
    }
   ],
   "source": [
    "print(df_alloy2.groupby(\"Dentist\")[\"Response\"].mean())\n",
    "\n",
    "# draw the boxplot for visualization \n",
    "fig, ax = plt.subplots(figsize = (6,6))\n",
    "a = sns.boxplot(x= \"Dentist\", y = 'Response' , data = df_alloy2)\n",
    "a.set_title(\"Implant Hardness by Dentist (Alloy 2)\", fontsize=15)\n",
    "plt.show()"
   ]
  },
  {
   "cell_type": "markdown",
   "id": "8f0f13f9",
   "metadata": {},
   "source": [
    "In this analysis, we aim to determine if there are significant differences in the mean implant hardness among dentists. We will utilize a **One-way ANOVA test** to compare the means from multiple dentists and assess if there is any significant variation in implant hardness attributed to different dentists. However, to ensure the reliability of the ANOVA results, we need to verify two key assumptions:\n",
    "\n",
    "**One-way ANOVA test**\n",
    "\n",
    "1.Normality Assumption: Shapiro-Wilk’s test will be applied to the response variable (implant hardness) to assess if the data follows a normal distribution.\n",
    "\n",
    "2.Equality of Variance Assumption: Levene's test will be applied to the response variable to assess if the variance of implant hardness is equal across all dentists.\n",
    "\n"
   ]
  },
  {
   "cell_type": "markdown",
   "id": "734d7be8",
   "metadata": {},
   "source": [
    "**Shapiro-Wilk’s test**\n",
    "\n",
    "We will test the null hypothesis\n",
    "\n",
    ">$H_0:$ distribution of implant hardness measurements follows a normal distribution\n",
    "against the alternative hypothesis\n",
    "\n",
    ">$H_a:$ distribution of implant hardness measurements deviates from a normal distribution."
   ]
  },
  {
   "cell_type": "code",
   "execution_count": 24,
   "id": "200b0c9c",
   "metadata": {},
   "outputs": [
    {
     "name": "stdout",
     "output_type": "stream",
     "text": [
      "Shapiro-Wilk's test p-value for Alloy 1: 1.1945070582441986e-05\n"
     ]
    }
   ],
   "source": [
    "# Assumption 1: Normality\n",
    "# Use the shapiro function for the scipy.stats library for this test\n",
    "\n",
    "# find the p-value\n",
    "w, p_value = stats.shapiro(df_alloy1['Response']) \n",
    "print(\"Shapiro-Wilk's test p-value for Alloy 1:\", p_value)"
   ]
  },
  {
   "cell_type": "code",
   "execution_count": 25,
   "id": "e33c3fba",
   "metadata": {},
   "outputs": [
    {
     "name": "stdout",
     "output_type": "stream",
     "text": [
      "Shapiro-Wilk's test p-value for Alloy 2: 0.00040293222991749644\n"
     ]
    }
   ],
   "source": [
    "# Assumption 1: Normality\n",
    "# Use the shapiro function for the scipy.stats library for this test\n",
    "\n",
    "# find the p-value\n",
    "w, p_value = stats.shapiro(df_alloy2['Response']) \n",
    "print(\"Shapiro-Wilk's test p-value for Alloy 2:\", p_value)"
   ]
  },
  {
   "cell_type": "markdown",
   "id": "9886eefd",
   "metadata": {},
   "source": [
    "Since p-value(both alloy type 1 and 2) of the test is smaller than the 5% significance level, we can reject the null hypothesis that the response follows the normal distribution."
   ]
  },
  {
   "cell_type": "markdown",
   "id": "be7dd774",
   "metadata": {},
   "source": [
    "**Levene’s test**\n",
    "\n",
    "We will test the null hypothesis\n",
    "\n",
    ">$H_0$: All the population variances are equal\n",
    "\n",
    "against the alternative hypothesis\n",
    "\n",
    ">$H_a$: At least one variance is different from the rest"
   ]
  },
  {
   "cell_type": "code",
   "execution_count": 26,
   "id": "01f426a0",
   "metadata": {},
   "outputs": [
    {
     "name": "stdout",
     "output_type": "stream",
     "text": [
      "Levene's test p-value for Alloy 1: 0.2565537418543795\n"
     ]
    }
   ],
   "source": [
    "statistic, p_levene_alloy1 = stats.levene(df_alloy1[df_alloy1['Dentist'] == 1]['Response'],\n",
    "                                            df_alloy1[df_alloy1['Dentist'] == 2]['Response'],\n",
    "                                            df_alloy1[df_alloy1['Dentist'] == 3]['Response'],\n",
    "                                            df_alloy1[df_alloy1['Dentist'] == 4]['Response'],\n",
    "                                            df_alloy1[df_alloy1['Dentist'] == 5]['Response'])\n",
    "print(\"Levene's test p-value for Alloy 1:\", p_levene_alloy1)"
   ]
  },
  {
   "cell_type": "code",
   "execution_count": 27,
   "id": "33ec4c2b",
   "metadata": {},
   "outputs": [
    {
     "name": "stdout",
     "output_type": "stream",
     "text": [
      "Levene's test p-value for Alloy 2: 0.23686777576324952\n"
     ]
    }
   ],
   "source": [
    "statistic, p_levene_alloy2 = stats.levene(df_alloy2[df_alloy2['Dentist'] == 1]['Response'],\n",
    "                                            df_alloy2[df_alloy2['Dentist'] == 2]['Response'],\n",
    "                                            df_alloy2[df_alloy2['Dentist'] == 3]['Response'],\n",
    "                                            df_alloy2[df_alloy2['Dentist'] == 4]['Response'],\n",
    "                                            df_alloy2[df_alloy2['Dentist'] == 5]['Response'])\n",
    "print(\"Levene's test p-value for Alloy 2:\", p_levene_alloy2)"
   ]
  },
  {
   "cell_type": "markdown",
   "id": "cf54764c",
   "metadata": {},
   "source": [
    "Since the p-value(for both alloys) is large than the 5% significance level, we fail to reject the null hypothesis of homogeneity of variances."
   ]
  },
  {
   "cell_type": "markdown",
   "id": "b54446ba",
   "metadata": {},
   "source": [
    "we select $\\alpha = 0.05$"
   ]
  },
  {
   "cell_type": "markdown",
   "id": "e71b6a55",
   "metadata": {},
   "source": [
    "**Calculate the p-value**"
   ]
  },
  {
   "cell_type": "markdown",
   "id": "3a674f0d",
   "metadata": {},
   "source": [
    "- We will use the `f_oneway()` function from the `scipy.stats` library to perform a one-way ANOVA test.\n",
    "- The `f_oneway()` function takes the sample observations from the different groups and returns the test statistic and the p-value for the test. \n",
    "    - The sample observations are the implant hardness measurements with respect to the Dentists."
   ]
  },
  {
   "cell_type": "code",
   "execution_count": 28,
   "id": "3f941eff",
   "metadata": {},
   "outputs": [
    {
     "name": "stdout",
     "output_type": "stream",
     "text": [
      "ANOVA p-value for Alloy 1: 0.8028113128531966\n"
     ]
    }
   ],
   "source": [
    "from scipy.stats import f_oneway\n",
    "\n",
    "test_stat, p_anova_alloy1 = f_oneway(df_alloy1[df_alloy1['Dentist'] == 1]['Response'],\n",
    "                                        df_alloy1[df_alloy1['Dentist'] == 2]['Response'],\n",
    "                                        df_alloy1[df_alloy1['Dentist'] == 3]['Response'],\n",
    "                                        df_alloy1[df_alloy1['Dentist'] == 4]['Response'],\n",
    "                                        df_alloy2[df_alloy2['Dentist'] == 5]['Response'])\n",
    "print(\"ANOVA p-value for Alloy 1:\", p_anova_alloy1)"
   ]
  },
  {
   "cell_type": "code",
   "execution_count": 29,
   "id": "346d3192",
   "metadata": {},
   "outputs": [
    {
     "name": "stdout",
     "output_type": "stream",
     "text": [
      "ANOVA p-value for Alloy 2: 0.7180309510793431\n"
     ]
    }
   ],
   "source": [
    "from scipy.stats import f_oneway\n",
    "\n",
    "test_stat, p_anova_alloy2 = f_oneway(df_alloy2[df_alloy2['Dentist'] == 1]['Response'],\n",
    "                                        df_alloy2[df_alloy2['Dentist'] == 2]['Response'],\n",
    "                                        df_alloy2[df_alloy2['Dentist'] == 3]['Response'],\n",
    "                                        df_alloy2[df_alloy2['Dentist'] == 4]['Response'],\n",
    "                                        df_alloy2[df_alloy2['Dentist'] == 5]['Response'])\n",
    "print(\"ANOVA p-value for Alloy 2:\", p_anova_alloy2)"
   ]
  },
  {
   "cell_type": "markdown",
   "id": "6fd0c4f1",
   "metadata": {},
   "source": [
    " ### Compare the p-value with $\\alpha$"
   ]
  },
  {
   "cell_type": "code",
   "execution_count": 30,
   "id": "0fed5167",
   "metadata": {},
   "outputs": [
    {
     "name": "stdout",
     "output_type": "stream",
     "text": [
      "Fail to reject null hypothesis: There are no significant differences in implant hardness among dentists for Alloy 1.\n"
     ]
    }
   ],
   "source": [
    "if p_anova_alloy1 < 0.05:\n",
    "    print(\"Reject null hypothesis: There are significant differences in implant hardness among dentists for Alloy 1.\")\n",
    "else:\n",
    "    print(\"Fail to reject null hypothesis: There are no significant differences in implant hardness among dentists for Alloy 1.\")"
   ]
  },
  {
   "cell_type": "code",
   "execution_count": 31,
   "id": "fc6e0bfe",
   "metadata": {},
   "outputs": [
    {
     "name": "stdout",
     "output_type": "stream",
     "text": [
      "Fail to reject null hypothesis: There are no significant differences in implant hardness among dentists for Alloy 1.\n"
     ]
    }
   ],
   "source": [
    "if p_anova_alloy2 < 0.05:\n",
    "    print(\"Reject null hypothesis: There are significant differences in implant hardness among dentists for Alloy 1.\")\n",
    "else:\n",
    "    print(\"Fail to reject null hypothesis: There are no significant differences in implant hardness among dentists for Alloy 1.\")"
   ]
  },
  {
   "cell_type": "markdown",
   "id": "0c118473",
   "metadata": {},
   "source": [
    "### Multiple Comparison test (Tukey HSD)"
   ]
  },
  {
   "cell_type": "markdown",
   "id": "d1a88262",
   "metadata": {},
   "source": [
    "even though null hypothesis is not rejected, we are conducting Tukey's HSD test."
   ]
  },
  {
   "cell_type": "code",
   "execution_count": 32,
   "id": "5f099a5f",
   "metadata": {},
   "outputs": [
    {
     "name": "stdout",
     "output_type": "stream",
     "text": [
      "  Multiple Comparison of Means - Tukey HSD, FWER=0.05   \n",
      "========================================================\n",
      "group1 group2  meandiff p-adj    lower    upper   reject\n",
      "--------------------------------------------------------\n",
      "     1      2   11.3333 0.9996 -145.0423  167.709  False\n",
      "     1      3  -32.3333 0.9757  -188.709 124.0423  False\n",
      "     1      4  -68.7778 0.7189 -225.1535  87.5979  False\n",
      "     1      5 -122.2222 0.1889 -278.5979  34.1535  False\n",
      "     2      3  -43.6667 0.9298 -200.0423  112.709  False\n",
      "     2      4  -80.1111 0.5916 -236.4868  76.2646  False\n",
      "     2      5 -133.5556 0.1258 -289.9312  22.8201  False\n",
      "     3      4  -36.4444 0.9626 -192.8201 119.9312  False\n",
      "     3      5  -89.8889 0.4805 -246.2646  66.4868  False\n",
      "     4      5  -53.4444 0.8643 -209.8201 102.9312  False\n",
      "--------------------------------------------------------\n"
     ]
    }
   ],
   "source": [
    "from statsmodels.stats.multicomp import pairwise_tukeyhsd\n",
    "\n",
    "# perform multiple pairwise comparison (Tukey HSD)\n",
    "m_comp = pairwise_tukeyhsd(endog = df_alloy1['Response'], groups = df_alloy1['Dentist'], alpha = 0.05)\n",
    "print(m_comp)"
   ]
  },
  {
   "cell_type": "code",
   "execution_count": 33,
   "id": "8271a4d7",
   "metadata": {},
   "outputs": [
    {
     "name": "stdout",
     "output_type": "stream",
     "text": [
      "  Multiple Comparison of Means - Tukey HSD, FWER=0.05  \n",
      "=======================================================\n",
      "group1 group2 meandiff p-adj    lower    upper   reject\n",
      "-------------------------------------------------------\n",
      "     1      2  -4.1111    1.0 -225.5687 217.3465  False\n",
      "     1      3 -36.5556 0.9895 -258.0131  184.902  False\n",
      "     1      4    -70.0 0.8941 -291.4576 151.4576  False\n",
      "     1      5 -90.1111 0.7724 -311.5687 131.3465  False\n",
      "     2      3 -32.4444 0.9933  -253.902 189.0131  False\n",
      "     2      4 -65.8889 0.9132 -287.3465 155.5687  False\n",
      "     2      5    -86.0 0.8008 -307.4576 135.4576  False\n",
      "     3      4 -33.4444 0.9925  -254.902 188.0131  False\n",
      "     3      5 -53.5556 0.9574 -275.0131  167.902  False\n",
      "     4      5 -20.1111  0.999 -241.5687 201.3465  False\n",
      "-------------------------------------------------------\n"
     ]
    }
   ],
   "source": [
    "from statsmodels.stats.multicomp import pairwise_tukeyhsd\n",
    "\n",
    "# perform multiple pairwise comparison (Tukey HSD)\n",
    "m_comp = pairwise_tukeyhsd(endog = df_alloy2['Response'], groups = df_alloy2['Dentist'], alpha = 0.05)\n",
    "print(m_comp)"
   ]
  },
  {
   "cell_type": "code",
   "execution_count": 34,
   "id": "ccf5aa5c",
   "metadata": {},
   "outputs": [
    {
     "name": "stdout",
     "output_type": "stream",
     "text": [
      "Multiple Comparison of Means - Tukey HSD, FWER=0.05 \n",
      "====================================================\n",
      "group1 group2 meandiff p-adj  lower   upper   reject\n",
      "----------------------------------------------------\n",
      "     1      2  68.5778 0.0248 8.9042 128.2513   True\n",
      "----------------------------------------------------\n"
     ]
    }
   ],
   "source": [
    "from statsmodels.stats.multicomp import pairwise_tukeyhsd\n",
    "\n",
    "# perform multiple pairwise comparison (Tukey HSD)\n",
    "m_comp = pairwise_tukeyhsd(endog = df['Response'], groups = df['Alloy'], alpha = 0.05)\n",
    "print(m_comp)"
   ]
  },
  {
   "cell_type": "markdown",
   "id": "5884dbdd",
   "metadata": {},
   "source": [
    "### CONCLUSIONS:"
   ]
  },
  {
   "cell_type": "markdown",
   "id": "a137a6a7",
   "metadata": {},
   "source": [
    "* Shapiro-Wilk's test indicates that the normality assumption is violated for dentists for both Alloy type 1 and type 2.\n",
    "* For both Alloy 1 and Alloy 2, there are no significant differences in implant hardness among dentists.\n",
    "* The variations in implant hardness observed cannot be attributed to differences in dentists but may be influenced by other factors such as the method of implant, temperature, or alloy used.\n",
    "* ANOVA p-value is greater than the significance level (𝛼 = 0.05), indicating no significant difference in implant hardness among dentists for Alloy 1 and Alloy 2."
   ]
  },
  {
   "cell_type": "markdown",
   "id": "98923058",
   "metadata": {},
   "source": [
    "##### 2.How does the hardness of implants vary depending on methods?"
   ]
  },
  {
   "cell_type": "markdown",
   "id": "532d6c7e",
   "metadata": {},
   "source": [
    "Null and Alternate Hypotheses\n",
    "\n",
    "For each alloy type, the hypotheses are:\n",
    "\n",
    "###### Null Hypothesis (H0): There is no significant difference in implant hardness across different methods.\n",
    "###### Alternate Hypothesis (H1): There is a significant difference in implant hardness across different methods."
   ]
  },
  {
   "cell_type": "code",
   "execution_count": 35,
   "id": "1adbd696",
   "metadata": {},
   "outputs": [
    {
     "name": "stdout",
     "output_type": "stream",
     "text": [
      "Method\n",
      "1    751.133333\n",
      "2    745.000000\n",
      "3    626.333333\n",
      "Name: Response, dtype: float64\n"
     ]
    },
    {
     "data": {
      "image/png": "[encoded data removed]",
      "text/plain": [
       "<Figure size 600x600 with 1 Axes>"
      ]
     },
     "metadata": {},
     "output_type": "display_data"
    }
   ],
   "source": [
    "print(df_alloy1.groupby(\"Method\")[\"Response\"].mean())\n",
    "\n",
    "# draw the boxplot for visualization \n",
    "fig, ax = plt.subplots(figsize = (6,6))\n",
    "a = sns.boxplot(x= \"Method\", y = 'Response' , data = df_alloy1)\n",
    "a.set_title(\"Implant Hardness by Method (Alloy 1)\", fontsize=15)\n",
    "plt.show()"
   ]
  },
  {
   "cell_type": "code",
   "execution_count": 36,
   "id": "a5f07800",
   "metadata": {},
   "outputs": [
    {
     "name": "stdout",
     "output_type": "stream",
     "text": [
      "Method\n",
      "1    836.666667\n",
      "2    863.666667\n",
      "3    627.866667\n",
      "Name: Response, dtype: float64\n"
     ]
    },
    {
     "data": {
      "image/png": "[encoded data removed]",
      "text/plain": [
       "<Figure size 600x600 with 1 Axes>"
      ]
     },
     "metadata": {},
     "output_type": "display_data"
    }
   ],
   "source": [
    "print(df_alloy2.groupby(\"Method\")[\"Response\"].mean())\n",
    "\n",
    "# draw the boxplot for visualization \n",
    "fig, ax = plt.subplots(figsize = (6,6))\n",
    "a = sns.boxplot(x= \"Method\", y = 'Response' , data = df_alloy2)\n",
    "a.set_title(\"Implant Hardness by Method (Alloy 2)\", fontsize=15)\n",
    "plt.show()"
   ]
  },
  {
   "cell_type": "markdown",
   "id": "32d0a3b7",
   "metadata": {},
   "source": [
    "In this analysis, we aim to determine if there are significant differences in the mean implant hardness among methods. We will utilize a **One-way ANOVA test** to compare the means from multiple methods and assess if there is any significant variation in implant hardness attributed to different methods. However, to ensure the reliability of the ANOVA results, we need to verify two key assumptions:\n",
    "\n",
    "**One-way ANOVA test**\n",
    "\n",
    "1.Normality Assumption: Shapiro-Wilk’s test will be applied to the response variable (implant hardness) to assess if the data follows a normal distribution.\n",
    "\n",
    "2.Equality of Variance Assumption: Levene's test will be applied to the response variable to assess if the variance of implant hardness is equal across all methods.\n",
    "\n"
   ]
  },
  {
   "cell_type": "markdown",
   "id": "39da9431",
   "metadata": {},
   "source": [
    "**Shapiro-Wilk’s test**\n",
    "\n",
    "We will test the null hypothesis\n",
    "\n",
    ">$H_0:$ distribution of implant hardness measurements follows a normal distribution.\n",
    "\n",
    "against the alternative hypothesis\n",
    "\n",
    ">$H_a:$ distribution of implant hardness measurements deviates from a normal distribution."
   ]
  },
  {
   "cell_type": "code",
   "execution_count": 37,
   "id": "999e4a37",
   "metadata": {},
   "outputs": [
    {
     "name": "stdout",
     "output_type": "stream",
     "text": [
      "Shapiro-Wilk's test p-value for Alloy 1: 1.1945070582441986e-05\n"
     ]
    }
   ],
   "source": [
    "# Assumption 1: Normality\n",
    "# Use the shapiro function for the scipy.stats library for this test\n",
    "\n",
    "# find the p-value\n",
    "w, p_value = stats.shapiro(df_alloy1['Response']) \n",
    "print(\"Shapiro-Wilk's test p-value for Alloy 1:\", p_value)"
   ]
  },
  {
   "cell_type": "code",
   "execution_count": 38,
   "id": "8ee4e024",
   "metadata": {},
   "outputs": [
    {
     "name": "stdout",
     "output_type": "stream",
     "text": [
      "Shapiro-Wilk's test p-value for Alloy 2: 0.00040293222991749644\n"
     ]
    }
   ],
   "source": [
    "# Assumption 1: Normality\n",
    "# Use the shapiro function for the scipy.stats library for this test\n",
    "\n",
    "# find the p-value\n",
    "w, p_value = stats.shapiro(df_alloy2['Response']) \n",
    "print(\"Shapiro-Wilk's test p-value for Alloy 2:\", p_value)"
   ]
  },
  {
   "cell_type": "markdown",
   "id": "411d48fa",
   "metadata": {},
   "source": [
    "Since p-value(both alloy type 1 and 2) of the test is smaller than the 5% significance level, we can reject the null hypothesis that the response follows the normal distribution."
   ]
  },
  {
   "cell_type": "markdown",
   "id": "b5087edd",
   "metadata": {},
   "source": [
    "**Levene’s test**\n",
    "\n",
    "We will test the null hypothesis\n",
    "\n",
    ">$H_0$: All the population variances are equal\n",
    "\n",
    "against the alternative hypothesis\n",
    "\n",
    ">$H_a$: At least one variance is different from the rest"
   ]
  },
  {
   "cell_type": "code",
   "execution_count": 39,
   "id": "a9b8c4f4",
   "metadata": {},
   "outputs": [
    {
     "name": "stdout",
     "output_type": "stream",
     "text": [
      "Levene's test p-value for Alloy 1: 0.0034160381460233975\n"
     ]
    }
   ],
   "source": [
    "statistic, p_levene_alloy1 = stats.levene(df_alloy1[df_alloy1['Method'] == 1]['Response'],\n",
    "                                            df_alloy1[df_alloy1['Method'] == 2]['Response'],\n",
    "                                            df_alloy1[df_alloy1['Method'] == 3]['Response']\n",
    "                                            )\n",
    "print(\"Levene's test p-value for Alloy 1:\", p_levene_alloy1)"
   ]
  },
  {
   "cell_type": "code",
   "execution_count": 40,
   "id": "43cf0d5f",
   "metadata": {},
   "outputs": [
    {
     "name": "stdout",
     "output_type": "stream",
     "text": [
      "Levene's test p-value for Alloy 2: 0.04469269939158668\n"
     ]
    }
   ],
   "source": [
    "statistic, p_levene_alloy1 = stats.levene(df_alloy2[df_alloy2['Method'] == 1]['Response'],\n",
    "                                            df_alloy2[df_alloy2['Method'] == 2]['Response'],\n",
    "                                            df_alloy2[df_alloy2['Method'] == 3]['Response']\n",
    "                                            )\n",
    "print(\"Levene's test p-value for Alloy 2:\", p_levene_alloy1)"
   ]
  },
  {
   "cell_type": "markdown",
   "id": "cb10b4c3",
   "metadata": {},
   "source": [
    "Since the p-value(for both alloys) is smaller than the 5% significance level, reject the null hypothesis of homogeneity of variances."
   ]
  },
  {
   "cell_type": "markdown",
   "id": "386a9575",
   "metadata": {},
   "source": [
    "we select $\\alpha = 0.05$"
   ]
  },
  {
   "cell_type": "markdown",
   "id": "097bd415",
   "metadata": {},
   "source": [
    "**Calculate the p-value**"
   ]
  },
  {
   "cell_type": "markdown",
   "id": "799c34d9",
   "metadata": {},
   "source": [
    "- We will use the `f_oneway()` function from the `scipy.stats` library to perform a one-way ANOVA test.\n",
    "- The `f_oneway()` function takes the sample observations from the different groups and returns the test statistic and the p-value for the test. \n",
    "    - The sample observations are the implant hardness measurements with respect to the Methods."
   ]
  },
  {
   "cell_type": "code",
   "execution_count": 41,
   "id": "aa170d3f",
   "metadata": {},
   "outputs": [
    {
     "name": "stdout",
     "output_type": "stream",
     "text": [
      "ANOVA p-value for Alloy 1: 0.004163412167505543\n",
      "ANOVA p-value for Alloy 2: 5.415871051443187e-06\n"
     ]
    }
   ],
   "source": [
    "# Perform one-way ANOVA for Alloy 1\n",
    "test_stat_alloy1, p_anova_alloy1 = f_oneway(df_alloy1[df_alloy1['Method'] == 1]['Response'],\n",
    "                                             df_alloy1[df_alloy1['Method'] == 2]['Response'],\n",
    "                                             df_alloy1[df_alloy1['Method'] == 3]['Response'])\n",
    "\n",
    "# Perform one-way ANOVA for Alloy 2\n",
    "test_stat_alloy2, p_anova_alloy2 = f_oneway(df_alloy2[df_alloy2['Method'] == 1]['Response'],\n",
    "                                             df_alloy2[df_alloy2['Method'] == 2]['Response'],\n",
    "                                             df_alloy2[df_alloy2['Method'] == 3]['Response'])\n",
    "\n",
    "print(\"ANOVA p-value for Alloy 1:\", p_anova_alloy1)\n",
    "print(\"ANOVA p-value for Alloy 2:\", p_anova_alloy2)"
   ]
  },
  {
   "cell_type": "markdown",
   "id": "095c1e95",
   "metadata": {},
   "source": [
    " ### Compare the p-value with $\\alpha$"
   ]
  },
  {
   "cell_type": "code",
   "execution_count": 42,
   "id": "28d1b211",
   "metadata": {},
   "outputs": [
    {
     "name": "stdout",
     "output_type": "stream",
     "text": [
      "Reject null hypothesis: There are significant differences in implant hardness among dentists for Alloy 1.\n"
     ]
    }
   ],
   "source": [
    "if p_anova_alloy1 < 0.05:\n",
    "    print(\"Reject null hypothesis: There are significant differences in implant hardness among dentists for Alloy 1.\")\n",
    "else:\n",
    "    print(\"Fail to reject null hypothesis: There are no significant differences in implant hardness among dentists for Alloy 1.\")"
   ]
  },
  {
   "cell_type": "code",
   "execution_count": 43,
   "id": "ce65c19a",
   "metadata": {},
   "outputs": [
    {
     "name": "stdout",
     "output_type": "stream",
     "text": [
      "Reject null hypothesis: There are significant differences in implant hardness among dentists for Alloy 1.\n"
     ]
    }
   ],
   "source": [
    "if p_anova_alloy2 < 0.05:\n",
    "    print(\"Reject null hypothesis: There are significant differences in implant hardness among dentists for Alloy 1.\")\n",
    "else:\n",
    "    print(\"Fail to reject null hypothesis: There are no significant differences in implant hardness among dentists for Alloy 1.\")"
   ]
  },
  {
   "cell_type": "markdown",
   "id": "f0df6379",
   "metadata": {},
   "source": [
    "Results suggest that there is a significant difference in implant hardness across different methods for both alloy types."
   ]
  },
  {
   "cell_type": "markdown",
   "id": "c50d3348",
   "metadata": {},
   "source": [
    "### Multiple Comparison test (Tukey HSD)"
   ]
  },
  {
   "cell_type": "code",
   "execution_count": 44,
   "id": "93cd4ead",
   "metadata": {},
   "outputs": [
    {
     "name": "stdout",
     "output_type": "stream",
     "text": [
      "  Multiple Comparison of Means - Tukey HSD, FWER=0.05   \n",
      "========================================================\n",
      "group1 group2  meandiff p-adj    lower    upper   reject\n",
      "--------------------------------------------------------\n",
      "     1      2   -6.1333  0.987  -102.714  90.4473  False\n",
      "     1      3    -124.8 0.0085 -221.3807 -28.2193   True\n",
      "     2      3 -118.6667 0.0128 -215.2473  -22.086   True\n",
      "--------------------------------------------------------\n"
     ]
    }
   ],
   "source": [
    "from statsmodels.stats.multicomp import pairwise_tukeyhsd\n",
    "\n",
    "# perform multiple pairwise comparison (Tukey HSD)\n",
    "m_comp = pairwise_tukeyhsd(endog = df_alloy1['Response'], groups = df_alloy1['Method'], alpha = 0.05)\n",
    "print(m_comp)"
   ]
  },
  {
   "cell_type": "code",
   "execution_count": 45,
   "id": "cffa0395",
   "metadata": {},
   "outputs": [
    {
     "name": "stdout",
     "output_type": "stream",
     "text": [
      "  Multiple Comparison of Means - Tukey HSD, FWER=0.05   \n",
      "========================================================\n",
      "group1 group2 meandiff p-adj    lower     upper   reject\n",
      "--------------------------------------------------------\n",
      "     1      2     27.0 0.8212  -82.4546  136.4546  False\n",
      "     1      3   -208.8 0.0001 -318.2546  -99.3454   True\n",
      "     2      3   -235.8    0.0 -345.2546 -126.3454   True\n",
      "--------------------------------------------------------\n"
     ]
    }
   ],
   "source": [
    "from statsmodels.stats.multicomp import pairwise_tukeyhsd\n",
    "\n",
    "# perform multiple pairwise comparison (Tukey HSD)\n",
    "m_comp = pairwise_tukeyhsd(endog = df_alloy2['Response'], groups = df_alloy1['Method'], alpha = 0.05)\n",
    "print(m_comp)"
   ]
  },
  {
   "cell_type": "markdown",
   "id": "d4e46acf",
   "metadata": {},
   "source": [
    "## Conclusions"
   ]
  },
  {
   "cell_type": "markdown",
   "id": "f23b3bdf",
   "metadata": {},
   "source": [
    "* Shapiro-Wilk's test indicates that the normality assumption is violated for dentists for both Alloy type 1 and type 2.\n",
    "* Significant difference is observed between Method 1 and Method 3 and Method 2 and Method 3 for Alloy 1.\n",
    "* Significant difference is observed between Method 1 and Method 3 and Method 2 and Method 3 for Alloy 2.\n",
    "* ANOVA p-value is smaller than the significance level (𝛼 = 0.05), indicating  significant difference in implant hardness among Methods for Alloy 1 and Alloy 2.\n",
    "* For both Alloy 1 and Alloy 2, Methods 1 and 3, as well as Methods 2 and 3, exhibit significant differences in implant hardness.\n",
    "* No significant difference in implant hardness is found between Methods 1 and 2 for either alloy."
   ]
  },
  {
   "cell_type": "markdown",
   "id": "d6d80caf",
   "metadata": {},
   "source": [
    "##### 3.What is the interaction effect between the dentist and method on the hardness of dental implants for each type of alloy?"
   ]
  },
  {
   "cell_type": "code",
   "execution_count": 46,
   "id": "70ca4259",
   "metadata": {},
   "outputs": [],
   "source": [
    "def create_interaction_plot(data, alloy_type):\n",
    "    plt.figure(figsize=(10, 6))\n",
    "    sns.pointplot(data=data, x='Method', y='Response', hue='Dentist',ci=None)\n",
    "    plt.title(f'Interaction Plot for Alloy {alloy_type}')\n",
    "    plt.xlabel('Method')\n",
    "    plt.ylabel('Response (Hardness)')\n",
    "    plt.legend(title='Dentist')\n",
    "    plt.grid(True)\n",
    "    plt.show()"
   ]
  },
  {
   "cell_type": "code",
   "execution_count": 47,
   "id": "0e891696",
   "metadata": {},
   "outputs": [
    {
     "name": "stderr",
     "output_type": "stream",
     "text": [
      "C:\\Users\\AKHIL MOHANDAS\\AppData\\Local\\Temp\\ipykernel_21344\\3863579878.py:3: FutureWarning: \n",
      "\n",
      "The `ci` parameter is deprecated. Use `errorbar=None` for the same effect.\n",
      "\n",
      "  sns.pointplot(data=data, x='Method', y='Response', hue='Dentist',ci=None)\n"
     ]
    },
    {
     "data": {
      "image/png": "[encoded data removed]",
      "text/plain": [
       "<Figure size 1000x600 with 1 Axes>"
      ]
     },
     "metadata": {},
     "output_type": "display_data"
    },
    {
     "name": "stderr",
     "output_type": "stream",
     "text": [
      "C:\\Users\\AKHIL MOHANDAS\\AppData\\Local\\Temp\\ipykernel_21344\\3863579878.py:3: FutureWarning: \n",
      "\n",
      "The `ci` parameter is deprecated. Use `errorbar=None` for the same effect.\n",
      "\n",
      "  sns.pointplot(data=data, x='Method', y='Response', hue='Dentist',ci=None)\n"
     ]
    },
    {
     "data": {
      "image/png": "[encoded data removed]",
      "text/plain": [
       "<Figure size 1000x600 with 1 Axes>"
      ]
     },
     "metadata": {},
     "output_type": "display_data"
    }
   ],
   "source": [
    "create_interaction_plot(df_alloy1, 1)\n",
    "create_interaction_plot(df_alloy2, 2)"
   ]
  },
  {
   "cell_type": "markdown",
   "id": "c4c97d14",
   "metadata": {},
   "source": [
    "We can see that hardness of metal implants in dental cavities low for Alloy 1 used for dentists 4 and 5, And for alloy 2 the  hardness is lower for Method 3.\n",
    "\n",
    "The point plot indicates that there is an interaction effect between Dentist and Method, with the lines representing different Dentists showing variation across the levels of Method. However, it seems that this interaction effect may not be as pronounced for Method 3 compared to the other methods for Alloy 2."
   ]
  },
  {
   "cell_type": "markdown",
   "id": "369a9986",
   "metadata": {},
   "source": [
    "##### 4.How does the hardness of implants vary depending on dentists and methods together?"
   ]
  },
  {
   "cell_type": "markdown",
   "id": "336b5585",
   "metadata": {},
   "source": [
    "Null and Alternate Hypotheses\n",
    "\n",
    "For each alloy type, the hypotheses are:\n",
    "\n",
    "###### Null Hypothesis (H0): \n",
    "* The null hypothesis states that there is no significant difference in the mean response among the different dentists.\n",
    "###### Alternate Hypothesis (H1): \n",
    "* The null hypothesis states that there is significant difference in the mean response among the different dentists."
   ]
  },
  {
   "cell_type": "code",
   "execution_count": 48,
   "id": "81b74bdd",
   "metadata": {},
   "outputs": [
    {
     "name": "stdout",
     "output_type": "stream",
     "text": [
      "ANOVA Table for Alloy 1 - Dentist:\n",
      "               df         sum_sq       mean_sq         F    PR(>F)\n",
      "C(Dentist)   4.0  106683.688889  26670.922222  1.977112  0.116567\n",
      "Residual    40.0  539593.555556  13489.838889       NaN       NaN\n",
      "ANOVA Table for Alloy 2 - Dentist:\n",
      "               df        sum_sq       mean_sq         F    PR(>F)\n",
      "C(Dentist)   4.0  5.679791e+04  14199.477778  0.524835  0.718031\n",
      "Residual    40.0  1.082205e+06  27055.122222       NaN       NaN\n"
     ]
    }
   ],
   "source": [
    "formula = 'Response ~ C(Dentist)'\n",
    "model = ols(formula, df_alloy1).fit()\n",
    "aov_table1 = anova_lm(model)\n",
    "print('ANOVA Table for Alloy 1 - Dentist:\\n',aov_table1)\n",
    "formula = 'Response ~ C(Dentist)'\n",
    "model = ols(formula, df_alloy2).fit()\n",
    "aov_table2 = anova_lm(model)\n",
    "print('ANOVA Table for Alloy 2 - Dentist:\\n',aov_table2)"
   ]
  },
  {
   "cell_type": "markdown",
   "id": "ee100775",
   "metadata": {},
   "source": [
    "For both Alloy 1 and Alloy 2, the factor \"Dentist\" does not have a significant effect on the mean response (hardness of dental implants) based on the given data."
   ]
  },
  {
   "cell_type": "markdown",
   "id": "e553f148",
   "metadata": {},
   "source": [
    "Null and Alternate Hypotheses\n",
    "\n",
    "For each alloy type, the hypotheses are:\n",
    "\n",
    "###### Null Hypothesis (H0): \n",
    "* The null hypothesis states that there is no significant difference in the mean response among the different Method.\n",
    "###### Alternate Hypothesis (H1): \n",
    "* The null hypothesis states that there is significant difference in the mean response among the different Method."
   ]
  },
  {
   "cell_type": "code",
   "execution_count": 49,
   "id": "f93d87cd",
   "metadata": {},
   "outputs": [
    {
     "name": "stdout",
     "output_type": "stream",
     "text": [
      "ANOVA Table for Alloy 1 - Method:\n",
      "              df         sum_sq       mean_sq         F    PR(>F)\n",
      "C(Method)   2.0  148472.177778  74236.088889  6.263327  0.004163\n",
      "Residual   42.0  497805.066667  11852.501587       NaN       NaN\n",
      "ANOVA Table for Alloy 2 - Method:\n",
      "               df        sum_sq       mean_sq         F    PR(>F)\n",
      "C(Dentist)   4.0  5.679791e+04  14199.477778  0.524835  0.718031\n",
      "Residual    40.0  1.082205e+06  27055.122222       NaN       NaN\n"
     ]
    }
   ],
   "source": [
    "formula = 'Response ~ C(Method)'\n",
    "model = ols(formula, df_alloy1).fit()\n",
    "aov_table1 = anova_lm(model)\n",
    "print('ANOVA Table for Alloy 1 - Method:\\n',aov_table1)\n",
    "formula = 'Response ~ C(Dentist)'\n",
    "model = ols(formula, df_alloy2).fit()\n",
    "aov_table2 = anova_lm(model)\n",
    "print('ANOVA Table for Alloy 2 - Method:\\n',aov_table2)"
   ]
  },
  {
   "cell_type": "markdown",
   "id": "097ac5f5",
   "metadata": {},
   "source": [
    "For Alloy 1, there is evidence to suggest that the factor \"Method\" has a significant effect on the mean response (hardness of dental implants). However, for Alloy 2, the ANOVA table does not provide sufficient information to draw conclusions about the effect of the Method factor."
   ]
  },
  {
   "cell_type": "markdown",
   "id": "d41972f1",
   "metadata": {},
   "source": [
    "Null and Alternate Hypotheses\n",
    "\n",
    "For each alloy type, the hypotheses are:\n",
    "\n",
    "###### Null Hypothesis (H0): \n",
    "* There is no significant difference in the mean response among the different Dentists.\n",
    "* There is no significant difference in the mean response among the different Methods.\n",
    "* There is no interaction effect between Dentist and Method on the response.\n",
    "###### Alternate Hypothesis (H1): \n",
    "* There is a significant difference in the mean response among the different Dentists.\n",
    "* There is a significant difference in the mean response among the different Methods.\n",
    "* There is an interaction effect between Dentist and Method on the response."
   ]
  },
  {
   "cell_type": "code",
   "execution_count": 50,
   "id": "861830bd",
   "metadata": {},
   "outputs": [
    {
     "name": "stderr",
     "output_type": "stream",
     "text": [
      "C:\\Users\\AKHIL MOHANDAS\\AppData\\Local\\Temp\\ipykernel_21344\\935701881.py:2: FutureWarning: \n",
      "\n",
      "The `ci` parameter is deprecated. Use `errorbar=None` for the same effect.\n",
      "\n",
      "  sns.pointplot(x='Dentist', y='Response', data=df_alloy1, hue='Method', ci=None)\n"
     ]
    },
    {
     "data": {
      "image/png": "[encoded data removed]",
      "text/plain": [
       "<Figure size 1000x600 with 1 Axes>"
      ]
     },
     "metadata": {},
     "output_type": "display_data"
    }
   ],
   "source": [
    "plt.figure(figsize=(10, 6))\n",
    "sns.pointplot(x='Dentist', y='Response', data=df_alloy1, hue='Method', ci=None)\n",
    "plt.title('Interaction Plot of Response by Dentist and Method for Alloy 1')\n",
    "plt.xlabel('Dentist')\n",
    "plt.ylabel('Response')\n",
    "plt.legend(title='Method')\n",
    "plt.show()"
   ]
  },
  {
   "cell_type": "markdown",
   "id": "8fcd5266",
   "metadata": {},
   "source": [
    "significant interaction effect between 'Dentist' and 'Method' indicates that the effect of the dental implant procedure's method on the hardness of dental implants varies depending on which dentist performs the procedure."
   ]
  },
  {
   "cell_type": "code",
   "execution_count": 51,
   "id": "306354cd",
   "metadata": {},
   "outputs": [
    {
     "name": "stderr",
     "output_type": "stream",
     "text": [
      "C:\\Users\\AKHIL MOHANDAS\\AppData\\Local\\Temp\\ipykernel_21344\\1928152989.py:2: FutureWarning: \n",
      "\n",
      "The `ci` parameter is deprecated. Use `errorbar=None` for the same effect.\n",
      "\n",
      "  sns.pointplot(x='Dentist', y='Response', data=df_alloy2, hue='Method', ci=None)\n"
     ]
    },
    {
     "data": {
      "image/png": "[encoded data removed]",
      "text/plain": [
       "<Figure size 1000x600 with 1 Axes>"
      ]
     },
     "metadata": {},
     "output_type": "display_data"
    }
   ],
   "source": [
    "plt.figure(figsize=(10, 6))\n",
    "sns.pointplot(x='Dentist', y='Response', data=df_alloy2, hue='Method', ci=None)\n",
    "plt.title('Interaction Plot of Response by Dentist and Method for Alloy 2')\n",
    "plt.xlabel('Dentist')\n",
    "plt.ylabel('Response')\n",
    "plt.legend(title='Method')\n",
    "plt.show()"
   ]
  },
  {
   "cell_type": "markdown",
   "id": "4fda1e84",
   "metadata": {},
   "source": [
    "For Method 3, interaction effect is not apparent, indicating that the method's impact on implant hardness remains consistent across different dentists."
   ]
  },
  {
   "cell_type": "code",
   "execution_count": 52,
   "id": "9e2835f9",
   "metadata": {},
   "outputs": [],
   "source": [
    "from statsmodels.stats.anova import _get_covariance,anova_lm\n",
    "\n",
    "model_alloy1 = ols('Response ~ C(Dentist) + C(Method) + C(Dentist):C(Method)', data=df_alloy1).fit()\n",
    "anova_results_alloy1 = anova_lm(model_alloy1)"
   ]
  },
  {
   "cell_type": "code",
   "execution_count": 53,
   "id": "d560fa01",
   "metadata": {},
   "outputs": [
    {
     "name": "stdout",
     "output_type": "stream",
     "text": [
      "ANOVA results for Alloy 1:\n",
      "                        df         sum_sq       mean_sq          F    PR(>F)\n",
      "C(Dentist)             4.0  106683.688889  26670.922222   3.899638  0.011484\n",
      "C(Method)              2.0  148472.177778  74236.088889  10.854287  0.000284\n",
      "C(Dentist):C(Method)   8.0  185941.377778  23242.672222   3.398383  0.006793\n",
      "Residual              30.0  205180.000000   6839.333333        NaN       NaN\n"
     ]
    }
   ],
   "source": [
    "print(\"ANOVA results for Alloy 1:\")\n",
    "print(anova_results_alloy1)"
   ]
  },
  {
   "cell_type": "code",
   "execution_count": 54,
   "id": "53d139e4",
   "metadata": {},
   "outputs": [],
   "source": [
    "from statsmodels.stats.anova import _get_covariance,anova_lm\n",
    "\n",
    "model_alloy2 = ols('Response ~ C(Dentist) * C(Method)', data=df_alloy2).fit()\n",
    "anova_results_alloy2 = anova_lm(model_alloy2)"
   ]
  },
  {
   "cell_type": "code",
   "execution_count": 55,
   "id": "394cec3d",
   "metadata": {},
   "outputs": [
    {
     "name": "stdout",
     "output_type": "stream",
     "text": [
      "ANOVA results for Alloy 2:\n",
      "                        df         sum_sq        mean_sq          F    PR(>F)\n",
      "C(Dentist)             4.0   56797.911111   14199.477778   1.106152  0.371833\n",
      "C(Method)              2.0  499640.400000  249820.200000  19.461218  0.000004\n",
      "C(Dentist):C(Method)   8.0  197459.822222   24682.477778   1.922787  0.093234\n",
      "Residual              30.0  385104.666667   12836.822222        NaN       NaN\n"
     ]
    }
   ],
   "source": [
    "print(\"ANOVA results for Alloy 2:\")\n",
    "print(anova_results_alloy2)"
   ]
  },
  {
   "cell_type": "markdown",
   "id": "9f98cf56",
   "metadata": {},
   "source": [
    "### CONCLUSIONS:"
   ]
  },
  {
   "cell_type": "markdown",
   "id": "2c069a51",
   "metadata": {},
   "source": [
    "##### For Alloy 1:\n",
    "\n",
    "* Dentist: The p-value (0.011484) indicates a significant effect of different dentists on the hardness of the dental implants. This means that the hardness of the implants varies depending on which dentist performed the procedure.\n",
    "* Method: The p-value (0.000284) indicates a significant effect of different methods on the hardness of the dental implants. This means that the method used to perform the procedure affects the hardness of the implants.\n",
    "* Interaction: The p-value (0.006793) indicates a significant interaction effect between dentist and method. This means that the effect of the method on the hardness of the implants depends on which dentist performed the procedure.\n",
    "\n",
    "##### For Alloy 2:\n",
    "\n",
    "* Dentist: The p-value (0.371833) indicates no significant effect of different dentists on the hardness of the dental implants. This means that the hardness of the implants does not vary significantly depending on which dentist performed the procedure.\n",
    "* Method: The p-value (0.000004) indicates a significant effect of different methods on the hardness of the dental implants. This means that the method used to perform the procedure affects the hardness of the implants.\n",
    "* Interaction: The p-value (0.093234) indicates no significant interaction effect between dentist and method. This means that the effect of the method on the hardness of the implants does not significantly depend on which dentist performed the procedure.\n"
   ]
  }
 ],
 "metadata": {
  "kernelspec": {
   "display_name": "Python 3 (ipykernel)",
   "language": "python",
   "name": "python3"
  },
  "language_info": {
   "codemirror_mode": {
    "name": "ipython",
    "version": 3
   },
   "file_extension": ".py",
   "mimetype": "text/x-python",
   "name": "python",
   "nbconvert_exporter": "python",
   "pygments_lexer": "ipython3",
   "version": "3.11.5"
  }
 },
 "nbformat": 4,
 "nbformat_minor": 5
}
