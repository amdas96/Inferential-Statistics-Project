{
 "cells": [
  {
   "cell_type": "markdown",
   "id": "55e4e4c7",
   "metadata": {},
   "source": [
    "## Business Context\n",
    "\n",
    "Zingaro stone printing is a company that specializes in printing images or patterns on polished or unpolished stones.\n",
    "\n",
    "For the optimum level of printing of the image, the stone surface has to have a Brinell's hardness index of at least 150.\n",
    "\n",
    "## Objective\n",
    "\n",
    "Zingaro has received a batch of polished and unpolished stones from its clients. Use the data provided to answer the following (assuming a 5% significance level).\n",
    "\n",
    "1. Zingaro has reason to believe that the unpolished stones may not be suitable for printing. Do you think Zingaro is justified in thinking so?\n",
    "\n",
    "2. Is the mean hardness of the polished and unpolished stones the same?"
   ]
  },
  {
   "cell_type": "markdown",
   "id": "9ee3fd3d",
   "metadata": {},
   "source": [
    "### Import all the necessary libraries"
   ]
  },
  {
   "cell_type": "code",
   "execution_count": 1,
   "id": "9a6c12e2",
   "metadata": {},
   "outputs": [],
   "source": [
    "import numpy as np\n",
    "import pandas as pd\n",
    "import math\n",
    "from scipy import stats\n",
    "from   scipy.stats               import ttest_1samp, ttest_ind\n",
    "import matplotlib.pyplot         as     plt\n",
    "import matplotlib\n",
    "import seaborn as sns\n",
    "import statsmodels.stats.api as sm"
   ]
  },
  {
   "cell_type": "markdown",
   "id": "878452c7",
   "metadata": {},
   "source": [
    "### Loading the dataset"
   ]
  },
  {
   "cell_type": "code",
   "execution_count": 2,
   "id": "5a0f842a",
   "metadata": {},
   "outputs": [],
   "source": [
    "# load the dataset\n",
    "df = pd.read_csv('C:/Users/AKHIL MOHANDAS/Documents/Study_Material/Project 3/Zingaro_Company.csv')"
   ]
  },
  {
   "cell_type": "markdown",
   "id": "b71eb429",
   "metadata": {},
   "source": [
    "### Data Overview"
   ]
  },
  {
   "cell_type": "markdown",
   "id": "728cbd55",
   "metadata": {},
   "source": [
    "##### View the top 5 records"
   ]
  },
  {
   "cell_type": "code",
   "execution_count": 3,
   "id": "b093ea41",
   "metadata": {},
   "outputs": [
    {
     "data": {
      "text/html": [
       "<div>\n",
       "<style scoped>\n",
       "    .dataframe tbody tr th:only-of-type {\n",
       "        vertical-align: middle;\n",
       "    }\n",
       "\n",
       "    .dataframe tbody tr th {\n",
       "        vertical-align: top;\n",
       "    }\n",
       "\n",
       "    .dataframe thead th {\n",
       "        text-align: right;\n",
       "    }\n",
       "</style>\n",
       "<table border=\"1\" class=\"dataframe\">\n",
       "  <thead>\n",
       "    <tr style=\"text-align: right;\">\n",
       "      <th></th>\n",
       "      <th>Unpolished</th>\n",
       "      <th>Treated and Polished</th>\n",
       "    </tr>\n",
       "  </thead>\n",
       "  <tbody>\n",
       "    <tr>\n",
       "      <th>0</th>\n",
       "      <td>164.481713</td>\n",
       "      <td>133.209393</td>\n",
       "    </tr>\n",
       "    <tr>\n",
       "      <th>1</th>\n",
       "      <td>154.307045</td>\n",
       "      <td>138.482771</td>\n",
       "    </tr>\n",
       "    <tr>\n",
       "      <th>2</th>\n",
       "      <td>129.861048</td>\n",
       "      <td>159.665201</td>\n",
       "    </tr>\n",
       "    <tr>\n",
       "      <th>3</th>\n",
       "      <td>159.096184</td>\n",
       "      <td>145.663528</td>\n",
       "    </tr>\n",
       "    <tr>\n",
       "      <th>4</th>\n",
       "      <td>135.256748</td>\n",
       "      <td>136.789227</td>\n",
       "    </tr>\n",
       "  </tbody>\n",
       "</table>\n",
       "</div>"
      ],
      "text/plain": [
       "   Unpolished   Treated and Polished\n",
       "0   164.481713            133.209393\n",
       "1   154.307045            138.482771\n",
       "2   129.861048            159.665201\n",
       "3   159.096184            145.663528\n",
       "4   135.256748            136.789227"
      ]
     },
     "execution_count": 3,
     "metadata": {},
     "output_type": "execute_result"
    }
   ],
   "source": [
    "df.head()"
   ]
  },
  {
   "cell_type": "markdown",
   "id": "c779f732",
   "metadata": {},
   "source": [
    "##### View the bottom 5 records"
   ]
  },
  {
   "cell_type": "code",
   "execution_count": 4,
   "id": "c8904a40",
   "metadata": {},
   "outputs": [
    {
     "data": {
      "text/html": [
       "<div>\n",
       "<style scoped>\n",
       "    .dataframe tbody tr th:only-of-type {\n",
       "        vertical-align: middle;\n",
       "    }\n",
       "\n",
       "    .dataframe tbody tr th {\n",
       "        vertical-align: top;\n",
       "    }\n",
       "\n",
       "    .dataframe thead th {\n",
       "        text-align: right;\n",
       "    }\n",
       "</style>\n",
       "<table border=\"1\" class=\"dataframe\">\n",
       "  <thead>\n",
       "    <tr style=\"text-align: right;\">\n",
       "      <th></th>\n",
       "      <th>Unpolished</th>\n",
       "      <th>Treated and Polished</th>\n",
       "    </tr>\n",
       "  </thead>\n",
       "  <tbody>\n",
       "    <tr>\n",
       "      <th>70</th>\n",
       "      <td>123.067611</td>\n",
       "      <td>142.293544</td>\n",
       "    </tr>\n",
       "    <tr>\n",
       "      <th>71</th>\n",
       "      <td>171.822218</td>\n",
       "      <td>140.124092</td>\n",
       "    </tr>\n",
       "    <tr>\n",
       "      <th>72</th>\n",
       "      <td>88.135994</td>\n",
       "      <td>141.393091</td>\n",
       "    </tr>\n",
       "    <tr>\n",
       "      <th>73</th>\n",
       "      <td>145.150397</td>\n",
       "      <td>131.370530</td>\n",
       "    </tr>\n",
       "    <tr>\n",
       "      <th>74</th>\n",
       "      <td>170.854823</td>\n",
       "      <td>144.502647</td>\n",
       "    </tr>\n",
       "  </tbody>\n",
       "</table>\n",
       "</div>"
      ],
      "text/plain": [
       "    Unpolished   Treated and Polished\n",
       "70   123.067611            142.293544\n",
       "71   171.822218            140.124092\n",
       "72    88.135994            141.393091\n",
       "73   145.150397            131.370530\n",
       "74   170.854823            144.502647"
      ]
     },
     "execution_count": 4,
     "metadata": {},
     "output_type": "execute_result"
    }
   ],
   "source": [
    "df.tail()"
   ]
  },
  {
   "cell_type": "markdown",
   "id": "a36876eb",
   "metadata": {},
   "source": [
    "#### Shape of the dataframe"
   ]
  },
  {
   "cell_type": "code",
   "execution_count": 5,
   "id": "bbdd4d0d",
   "metadata": {},
   "outputs": [
    {
     "data": {
      "text/plain": [
       "(75, 2)"
      ]
     },
     "execution_count": 5,
     "metadata": {},
     "output_type": "execute_result"
    }
   ],
   "source": [
    "df.shape"
   ]
  },
  {
   "cell_type": "markdown",
   "id": "9479e0be",
   "metadata": {},
   "source": [
    "#### Checking for missing data"
   ]
  },
  {
   "cell_type": "code",
   "execution_count": 6,
   "id": "8c04678d",
   "metadata": {},
   "outputs": [
    {
     "name": "stdout",
     "output_type": "stream",
     "text": [
      "<class 'pandas.core.frame.DataFrame'>\n",
      "RangeIndex: 75 entries, 0 to 74\n",
      "Data columns (total 2 columns):\n",
      " #   Column                Non-Null Count  Dtype  \n",
      "---  ------                --------------  -----  \n",
      " 0   Unpolished            75 non-null     float64\n",
      " 1   Treated and Polished  75 non-null     float64\n",
      "dtypes: float64(2)\n",
      "memory usage: 1.3 KB\n"
     ]
    }
   ],
   "source": [
    "df.info()"
   ]
  },
  {
   "cell_type": "code",
   "execution_count": 7,
   "id": "833c46c3",
   "metadata": {},
   "outputs": [
    {
     "data": {
      "text/plain": [
       "Unpolished   Treated and Polished\n",
       "False        False                   75\n",
       "Name: count, dtype: int64"
      ]
     },
     "execution_count": 7,
     "metadata": {},
     "output_type": "execute_result"
    }
   ],
   "source": [
    "df.isnull().value_counts()"
   ]
  },
  {
   "cell_type": "markdown",
   "id": "c5eddce5",
   "metadata": {},
   "source": [
    "No data is missing"
   ]
  },
  {
   "cell_type": "code",
   "execution_count": 8,
   "id": "d7077d1b",
   "metadata": {},
   "outputs": [
    {
     "data": {
      "text/html": [
       "<div>\n",
       "<style scoped>\n",
       "    .dataframe tbody tr th:only-of-type {\n",
       "        vertical-align: middle;\n",
       "    }\n",
       "\n",
       "    .dataframe tbody tr th {\n",
       "        vertical-align: top;\n",
       "    }\n",
       "\n",
       "    .dataframe thead th {\n",
       "        text-align: right;\n",
       "    }\n",
       "</style>\n",
       "<table border=\"1\" class=\"dataframe\">\n",
       "  <thead>\n",
       "    <tr style=\"text-align: right;\">\n",
       "      <th></th>\n",
       "      <th>Unpolished</th>\n",
       "      <th>Treated and Polished</th>\n",
       "    </tr>\n",
       "  </thead>\n",
       "  <tbody>\n",
       "    <tr>\n",
       "      <th>count</th>\n",
       "      <td>75.000000</td>\n",
       "      <td>75.000000</td>\n",
       "    </tr>\n",
       "    <tr>\n",
       "      <th>mean</th>\n",
       "      <td>134.110527</td>\n",
       "      <td>147.788117</td>\n",
       "    </tr>\n",
       "    <tr>\n",
       "      <th>std</th>\n",
       "      <td>33.041804</td>\n",
       "      <td>15.587355</td>\n",
       "    </tr>\n",
       "    <tr>\n",
       "      <th>min</th>\n",
       "      <td>48.406838</td>\n",
       "      <td>107.524167</td>\n",
       "    </tr>\n",
       "    <tr>\n",
       "      <th>25%</th>\n",
       "      <td>115.329753</td>\n",
       "      <td>138.268300</td>\n",
       "    </tr>\n",
       "    <tr>\n",
       "      <th>50%</th>\n",
       "      <td>135.597121</td>\n",
       "      <td>145.721322</td>\n",
       "    </tr>\n",
       "    <tr>\n",
       "      <th>75%</th>\n",
       "      <td>158.215098</td>\n",
       "      <td>157.373318</td>\n",
       "    </tr>\n",
       "    <tr>\n",
       "      <th>max</th>\n",
       "      <td>200.161313</td>\n",
       "      <td>192.272856</td>\n",
       "    </tr>\n",
       "  </tbody>\n",
       "</table>\n",
       "</div>"
      ],
      "text/plain": [
       "       Unpolished   Treated and Polished\n",
       "count    75.000000             75.000000\n",
       "mean    134.110527            147.788117\n",
       "std      33.041804             15.587355\n",
       "min      48.406838            107.524167\n",
       "25%     115.329753            138.268300\n",
       "50%     135.597121            145.721322\n",
       "75%     158.215098            157.373318\n",
       "max     200.161313            192.272856"
      ]
     },
     "execution_count": 8,
     "metadata": {},
     "output_type": "execute_result"
    }
   ],
   "source": [
    "df.describe()"
   ]
  },
  {
   "cell_type": "markdown",
   "id": "e7894fde",
   "metadata": {},
   "source": [
    "### Plot Histograms and boxplot"
   ]
  },
  {
   "cell_type": "code",
   "execution_count": 9,
   "id": "48e33547",
   "metadata": {},
   "outputs": [
    {
     "data": {
      "image/png": "[encoded data removed]",
      "text/plain": [
       "<Figure size 1000x500 with 2 Axes>"
      ]
     },
     "metadata": {},
     "output_type": "display_data"
    }
   ],
   "source": [
    "df.hist(figsize=(10,5))\n",
    "plt.show()"
   ]
  },
  {
   "cell_type": "code",
   "execution_count": 10,
   "id": "f0528203",
   "metadata": {},
   "outputs": [
    {
     "data": {
      "image/png": "[encoded data removed]",
      "text/plain": [
       "<Figure size 640x480 with 1 Axes>"
      ]
     },
     "metadata": {},
     "output_type": "display_data"
    }
   ],
   "source": [
    "sns.boxplot(x= df['Unpolished '], color='lightblue')\n",
    "plt.title('Distribution of Brinell Hardness for Unpolished Stones')\n",
    "plt.show()"
   ]
  },
  {
   "cell_type": "code",
   "execution_count": 11,
   "id": "80ef6993",
   "metadata": {},
   "outputs": [
    {
     "data": {
      "image/png": "[encoded data removed]",
      "text/plain": [
       "<Figure size 640x480 with 1 Axes>"
      ]
     },
     "metadata": {},
     "output_type": "display_data"
    }
   ],
   "source": [
    "sns.boxplot(x= df['Treated and Polished'], color='lightblue')\n",
    "plt.title('Distribution of Brinell Hardness for Treated and Polished Stones')\n",
    "plt.show()"
   ]
  },
  {
   "cell_type": "markdown",
   "id": "955d182a",
   "metadata": {},
   "source": [
    "### Treating outliers"
   ]
  },
  {
   "cell_type": "code",
   "execution_count": 12,
   "id": "634fd396",
   "metadata": {},
   "outputs": [
    {
     "data": {
      "text/plain": [
       "count     75.000000\n",
       "mean     134.110527\n",
       "std       33.041804\n",
       "min       48.406838\n",
       "25%      115.329753\n",
       "50%      135.597121\n",
       "75%      158.215098\n",
       "max      200.161313\n",
       "Name: Unpolished , dtype: float64"
      ]
     },
     "execution_count": 12,
     "metadata": {},
     "output_type": "execute_result"
    }
   ],
   "source": [
    "df['Unpolished '].describe()"
   ]
  },
  {
   "cell_type": "markdown",
   "id": "22c5e955",
   "metadata": {},
   "source": [
    "###### Using IQR method to identify outliers"
   ]
  },
  {
   "cell_type": "code",
   "execution_count": 13,
   "id": "6ebcdfa0",
   "metadata": {},
   "outputs": [],
   "source": [
    "def remove_outlier(col):\n",
    "    sorted(col)\n",
    "    Q1,Q3=np.percentile(col,[25,75])\n",
    "    IQR=Q3-Q1\n",
    "    lower_range= Q1-(1.5 * IQR)\n",
    "    upper_range= Q3+(1.5 * IQR)\n",
    "    return lower_range, upper_range"
   ]
  },
  {
   "cell_type": "code",
   "execution_count": 14,
   "id": "a5dc3149",
   "metadata": {},
   "outputs": [
    {
     "name": "stdout",
     "output_type": "stream",
     "text": [
      "lower range 51.001735124999996 and upper range 222.543115725\n"
     ]
    }
   ],
   "source": [
    "## Check the lower range and upper range for the variable with zscore\n",
    "lr,ur=remove_outlier(df['Unpolished '])\n",
    "print(\"lower range\",lr, \"and upper range\", ur)"
   ]
  },
  {
   "cell_type": "code",
   "execution_count": 15,
   "id": "586d2bbe",
   "metadata": {},
   "outputs": [],
   "source": [
    "df['Unpolished ']=np.where(df['Unpolished ']>ur,ur,df['Unpolished '])\n",
    "df['Unpolished ']=np.where(df['Unpolished ']<lr,lr,df['Unpolished '])"
   ]
  },
  {
   "cell_type": "code",
   "execution_count": 16,
   "id": "d8db2a48",
   "metadata": {},
   "outputs": [
    {
     "data": {
      "image/png": "[encoded data removed]",
      "text/plain": [
       "<Figure size 640x480 with 1 Axes>"
      ]
     },
     "metadata": {},
     "output_type": "display_data"
    }
   ],
   "source": [
    "sns.boxplot(x= df['Unpolished '], color='lightblue')\n",
    "plt.show()"
   ]
  },
  {
   "cell_type": "markdown",
   "id": "d5114bcd",
   "metadata": {},
   "source": [
    "#### 1.Zingaro has reason to believe that the unpolished stones may not be suitable for printing. Do you think Zingaro is justified in thinking so?"
   ]
  },
  {
   "cell_type": "markdown",
   "id": "6037ea16",
   "metadata": {},
   "source": [
    "To determine if Zingaro is justified in thinking that the unpolished stones may not be suitable for printing, we can perform a hypothesis test."
   ]
  },
  {
   "cell_type": "markdown",
   "id": "c5b7d710",
   "metadata": {},
   "source": [
    "In one sample test, we compare the population parameter such as mean of a single sample of data collected from a single population."
   ]
  },
  {
   "cell_type": "markdown",
   "id": "ae841eb9",
   "metadata": {},
   "source": [
    "### Defining null and alternative hypotheses"
   ]
  },
  {
   "cell_type": "markdown",
   "id": "e079a904",
   "metadata": {},
   "source": [
    "Null Hypothesis (𝐻0 ): The mean Brinell's hardness index of unpolished stones is greater than or equal to 150, indicating that unpolished stones are suitable for printing.\n",
    "    \n",
    "    𝐻0: mean(μ)>=150.\n",
    "\n",
    "Alternate Hypothesis (𝐻𝑎): The mean hardness of the unpolished stones is less than 150.\n",
    "    \n",
    "    𝐻𝑎:  mean(μ)<150."
   ]
  },
  {
   "cell_type": "markdown",
   "id": "1d188dc2",
   "metadata": {},
   "source": [
    "### Deciding the significance level"
   ]
  },
  {
   "cell_type": "markdown",
   "id": "d3a30f3f",
   "metadata": {},
   "source": [
    "##### level of significance α = 0.05."
   ]
  },
  {
   "cell_type": "code",
   "execution_count": 17,
   "id": "91dffe2d",
   "metadata": {},
   "outputs": [
    {
     "name": "stdout",
     "output_type": "stream",
     "text": [
      "The sample size for this problem is 75\n"
     ]
    }
   ],
   "source": [
    "print(\"The sample size for this problem is\",len(df))"
   ]
  },
  {
   "cell_type": "markdown",
   "id": "9225ab3b",
   "metadata": {},
   "source": [
    "### Test statistic"
   ]
  },
  {
   "cell_type": "markdown",
   "id": "1edac143",
   "metadata": {},
   "source": [
    "We do not know the population standard deviation and n = 75. So we use the t distribution and the tSTAT test statistic."
   ]
  },
  {
   "cell_type": "markdown",
   "id": "c8e218db",
   "metadata": {},
   "source": [
    "### Calculate the p - value and test statistic"
   ]
  },
  {
   "cell_type": "code",
   "execution_count": 18,
   "id": "13cf3e55",
   "metadata": {},
   "outputs": [
    {
     "name": "stdout",
     "output_type": "stream",
     "text": [
      "One sample t test \n",
      "t statistic: -4.166875533846615 p value: 8.276372710325264e-05 \n"
     ]
    }
   ],
   "source": [
    "t_statistic, p_value = ttest_1samp(df['Unpolished '], 150)\n",
    "print('One sample t test \\nt statistic: {0} p value: {1} '.format(t_statistic, p_value))"
   ]
  },
  {
   "cell_type": "markdown",
   "id": "3243d8d9",
   "metadata": {},
   "source": [
    "### To reject or accept null hypothesis"
   ]
  },
  {
   "cell_type": "code",
   "execution_count": 19,
   "id": "d3ebe52b",
   "metadata": {},
   "outputs": [
    {
     "name": "stdout",
     "output_type": "stream",
     "text": [
      "Level of significance: 0.05\n",
      "We have evidence to reject the null hypothesis since p value < Level of significance\n",
      "Our one-sample t-test p-value= 8.276372710325264e-05\n"
     ]
    }
   ],
   "source": [
    "alpha_value = 0.05 # Level of significance\n",
    "print('Level of significance:' , alpha_value)\n",
    "if p_value < alpha_value: \n",
    "    print('We have evidence to reject the null hypothesis since p value < Level of significance')\n",
    "else:\n",
    "    print('We have no evidence to reject the null hypothesis since p value > Level of significance') \n",
    "\n",
    "print (\"Our one-sample t-test p-value=\", p_value)"
   ]
  },
  {
   "cell_type": "markdown",
   "id": "e35bcb88",
   "metadata": {},
   "source": [
    "##### There is significant evidence at the 5% significance level to conclude that the mean hardness of the unpolished stones is less than 150.\n",
    "\n",
    "this is enough proof to think Zingaro is justified in thinking that the unpolished stones may not be suitable for printing."
   ]
  },
  {
   "cell_type": "markdown",
   "id": "c73193b8",
   "metadata": {},
   "source": [
    " "
   ]
  },
  {
   "cell_type": "markdown",
   "id": "60f376fb",
   "metadata": {},
   "source": [
    "#### 2.Is the mean hardness of the polished and unpolished stones the same?"
   ]
  },
  {
   "cell_type": "markdown",
   "id": "cf6b9f86",
   "metadata": {},
   "source": [
    "Two sample t test (Snedecor and Cochran 1989) is used to determine if two population means are equal. A common application is to test if a new treatment or approach or process is yielding better results than the current treatment or approach or process.\n",
    "\n"
   ]
  },
  {
   "cell_type": "markdown",
   "id": "63f28b7a",
   "metadata": {},
   "source": [
    "#### Null and alternative hypotheses"
   ]
  },
  {
   "cell_type": "markdown",
   "id": "dbd8e0da",
   "metadata": {},
   "source": [
    "In testing whether mean hardness of the polished and unpolished stones are the same,the null hypothesis states that the mean hardness of the polished and unpolished stones are the same, 𝜇𝐴 equals 𝜇𝐵.\n",
    "\n",
    "The alternative hypothesis states that the mean hardness of the polished and unpolished stones are different,  𝜇𝐴 is not equal to  𝜇𝐵.\n",
    "\n",
    "where,\n",
    "\n",
    "𝜇𝐴=Mean of unpolished.\n",
    "\n",
    "𝜇𝐵=Mean of Treated and Polished."
   ]
  },
  {
   "cell_type": "markdown",
   "id": "f9948238",
   "metadata": {},
   "source": [
    "* $H_0$: $\\mu{A}$ - $\\mu{B}$ =      0 i.e        $\\mu{A}$ = $\\mu{B}$\n",
    "* $H_A$: $\\mu{A}$ - $\\mu{B}$ $\\neq$  0 i.e      $\\mu{A}$ $\\neq$ $\\mu{B}$"
   ]
  },
  {
   "cell_type": "markdown",
   "id": "584ecdd1",
   "metadata": {},
   "source": [
    "#### Significance level"
   ]
  },
  {
   "cell_type": "markdown",
   "id": "dbcbd54f",
   "metadata": {},
   "source": [
    "Here we select  𝛼= 0.05 and the population standard deviation is not known."
   ]
  },
  {
   "cell_type": "markdown",
   "id": "d6e06f3c",
   "metadata": {},
   "source": [
    "##### Calculate the p - value and test statistic"
   ]
  },
  {
   "cell_type": "markdown",
   "id": "118b0c3b",
   "metadata": {},
   "source": [
    "* We have two samples and we do not know the population standard deviation.\n",
    "* Sample sizes for both samples are  same.\n",
    "* Use the t distribution and the $t_{STAT}$ test statistic for two sample unpaired test."
   ]
  },
  {
   "cell_type": "markdown",
   "id": "377ae057",
   "metadata": {},
   "source": [
    "* We use the scipy.stats.ttest_ind to calculate the t-test for the means of TWO INDEPENDENT samples of scores given the two sample observations. This function returns t statistic and two-tailed p value.\n",
    "\n",
    "* This is a two-sided test for the null hypothesis that 2 independent samples have identical average (expected) values. This test assumes that the populations have identical variances."
   ]
  },
  {
   "cell_type": "code",
   "execution_count": 20,
   "id": "f1d8c0a4",
   "metadata": {},
   "outputs": [
    {
     "name": "stdout",
     "output_type": "stream",
     "text": [
      "tstat -3.2412275512430875\n",
      "P Value 0.0014703419909888047\n"
     ]
    }
   ],
   "source": [
    "t_statistic, p_value  = ttest_ind(df['Unpolished '],df['Treated and Polished'])\n",
    "print('tstat',t_statistic)    \n",
    "print('P Value',p_value) "
   ]
  },
  {
   "cell_type": "markdown",
   "id": "06efc4a0",
   "metadata": {},
   "source": [
    "##### Decide to reject or accept null hypothesis"
   ]
  },
  {
   "cell_type": "code",
   "execution_count": 21,
   "id": "55731a7c",
   "metadata": {},
   "outputs": [
    {
     "name": "stdout",
     "output_type": "stream",
     "text": [
      "two-sample t-test p-value= 0.0014703419909888047\n",
      "Reject the null hypothesis: The mean hardness of polished and unpolished stones is significantly different.\n",
      "We conclude that the mean hardness of the polished and unpolished stones are different, μ_A is not equal to μ_B.\n"
     ]
    }
   ],
   "source": [
    "# p_value < 0.05 => alternative hypothesis:\n",
    "# they don't have the same mean at the 5% significance level\n",
    "print (\"two-sample t-test p-value=\", p_value)\n",
    "\n",
    "alpha_level = 0.05\n",
    "\n",
    "if p_value < alpha_level:\n",
    "    print('Reject the null hypothesis: The mean hardness of polished and unpolished stones is significantly different.')\n",
    "    print('We conclude that the mean hardness of the polished and unpolished stones are different, μ_A is not equal to μ_B.')\n",
    "else:\n",
    "    print('Fail to reject the null hypothesis: There is no significant difference in the mean hardness of polished and unpolished stones.')\n",
    "    print('We conclude that the mean hardness of the polished and unpolished stones are the same, μ_A is equal to μ_B.')"
   ]
  },
  {
   "cell_type": "markdown",
   "id": "ccaca496",
   "metadata": {},
   "source": [
    "###### We conclude that the mean hardness of the polished and unpolished stones are different, μ_A is not equal to μ_B."
   ]
  },
  {
   "cell_type": "code",
   "execution_count": null,
   "id": "7636bfc1",
   "metadata": {},
   "outputs": [],
   "source": []
  }
 ],
 "metadata": {
  "kernelspec": {
   "display_name": "Python 3 (ipykernel)",
   "language": "python",
   "name": "python3"
  },
  "language_info": {
   "codemirror_mode": {
    "name": "ipython",
    "version": 3
   },
   "file_extension": ".py",
   "mimetype": "text/x-python",
   "name": "python",
   "nbconvert_exporter": "python",
   "pygments_lexer": "ipython3",
   "version": "3.11.5"
  }
 },
 "nbformat": 4,
 "nbformat_minor": 5
}
